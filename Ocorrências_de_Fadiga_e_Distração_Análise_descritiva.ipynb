{
  "nbformat": 4,
  "nbformat_minor": 0,
  "metadata": {
    "colab": {
      "name": "Cópia de Ocorrências de Fadiga e Distração - Análise descritiva",
      "provenance": [],
      "collapsed_sections": []
    },
    "kernelspec": {
      "name": "python3",
      "display_name": "Python 3"
    },
    "language_info": {
      "name": "python"
    }
  },
  "cells": [
    {
      "cell_type": "markdown",
      "metadata": {
        "id": "gzu-fE0YXfDK"
      },
      "source": [
        "\n",
        "# **Ocorrências de fadiga e distração ao volante: Uma análise descritiva dos dados usando Python**"
      ]
    },
    {
      "cell_type": "markdown",
      "source": [
        "É possível prever quando um motorista manifestará sintomas de fadiga ao dirigir? A fadiga tem causas diversas e seus sintomas se manifestam por um bocejo ou até mesmo passando curtos espaços de tempo de olhos fechados ao volante?\n",
        "Uma das tecnologias desenvolvidas para identificar tais sintomas é através do reconhecimento deles na expressão facial dos motoristas.\n",
        "A partir dos dados históricos de uma operação de transporte de passageiros sob regime de fretamento, realizou-se uma análise exploratória dos dados e das relações entre as ocorrências (Variável explicada) e dados de tempo e espaço referente a tais ocorrências.\n"
      ],
      "metadata": {
        "id": "RHraXEDCxgXt"
      }
    },
    {
      "cell_type": "markdown",
      "source": [
        "##Carregando bibliotecas"
      ],
      "metadata": {
        "id": "t-MDWXlNeybs"
      }
    },
    {
      "cell_type": "code",
      "metadata": {
        "id": "RFHGYTO7ZvAC"
      },
      "source": [
        "# Análise e manipulação\n",
        "import pandas as pd\n",
        "import numpy as np\n",
        "\n",
        "# Visualização\n",
        "import plotly.express as px\n",
        "import plotly.graph_objects as go\n",
        "import seaborn as sns\n",
        "import matplotlib.pyplot as plt\n",
        "%matplotlib inline"
      ],
      "execution_count": null,
      "outputs": []
    },
    {
      "cell_type": "markdown",
      "source": [
        "##Analisando os dados"
      ],
      "metadata": {
        "id": "qZColnPqeeCR"
      }
    },
    {
      "cell_type": "code",
      "metadata": {
        "colab": {
          "base_uri": "https://localhost:8080/",
          "height": 206
        },
        "id": "53Mj9Rh8Z62j",
        "outputId": "5edea23d-e11f-4ba2-a4f0-988b763b2e12"
      },
      "source": [
        "#Visualizando a estrutura do dataset\n",
        "df = pd.read_csv(\"eventos.csv\")\n",
        "df.head()\n"
      ],
      "execution_count": null,
      "outputs": [
        {
          "output_type": "execute_result",
          "data": {
            "text/plain": [
              "   idveiculo  dia  mes  diadasemana      hora  Velocidade  Longitude  \\\n",
              "0         33    2    3            3  0.097778          32 -49.141701   \n",
              "1         34   24    3            4  0.397986          32 -49.131100   \n",
              "2         34   16    3            3  0.672743          25 -49.130100   \n",
              "3          1   18    4            1  0.753519          27 -49.126598   \n",
              "4          1   18    4            1  0.753553          16 -49.126400   \n",
              "\n",
              "   Latitude  Eventos  \n",
              "0  -5.38801        3  \n",
              "1  -5.37021        3  \n",
              "2  -5.38569        3  \n",
              "3  -5.37226        3  \n",
              "4  -5.37213        3  "
            ],
            "text/html": [
              "\n",
              "  <div id=\"df-1a97add9-7d51-409d-8064-9c88ab5794b3\">\n",
              "    <div class=\"colab-df-container\">\n",
              "      <div>\n",
              "<style scoped>\n",
              "    .dataframe tbody tr th:only-of-type {\n",
              "        vertical-align: middle;\n",
              "    }\n",
              "\n",
              "    .dataframe tbody tr th {\n",
              "        vertical-align: top;\n",
              "    }\n",
              "\n",
              "    .dataframe thead th {\n",
              "        text-align: right;\n",
              "    }\n",
              "</style>\n",
              "<table border=\"1\" class=\"dataframe\">\n",
              "  <thead>\n",
              "    <tr style=\"text-align: right;\">\n",
              "      <th></th>\n",
              "      <th>idveiculo</th>\n",
              "      <th>dia</th>\n",
              "      <th>mes</th>\n",
              "      <th>diadasemana</th>\n",
              "      <th>hora</th>\n",
              "      <th>Velocidade</th>\n",
              "      <th>Longitude</th>\n",
              "      <th>Latitude</th>\n",
              "      <th>Eventos</th>\n",
              "    </tr>\n",
              "  </thead>\n",
              "  <tbody>\n",
              "    <tr>\n",
              "      <th>0</th>\n",
              "      <td>33</td>\n",
              "      <td>2</td>\n",
              "      <td>3</td>\n",
              "      <td>3</td>\n",
              "      <td>0.097778</td>\n",
              "      <td>32</td>\n",
              "      <td>-49.141701</td>\n",
              "      <td>-5.38801</td>\n",
              "      <td>3</td>\n",
              "    </tr>\n",
              "    <tr>\n",
              "      <th>1</th>\n",
              "      <td>34</td>\n",
              "      <td>24</td>\n",
              "      <td>3</td>\n",
              "      <td>4</td>\n",
              "      <td>0.397986</td>\n",
              "      <td>32</td>\n",
              "      <td>-49.131100</td>\n",
              "      <td>-5.37021</td>\n",
              "      <td>3</td>\n",
              "    </tr>\n",
              "    <tr>\n",
              "      <th>2</th>\n",
              "      <td>34</td>\n",
              "      <td>16</td>\n",
              "      <td>3</td>\n",
              "      <td>3</td>\n",
              "      <td>0.672743</td>\n",
              "      <td>25</td>\n",
              "      <td>-49.130100</td>\n",
              "      <td>-5.38569</td>\n",
              "      <td>3</td>\n",
              "    </tr>\n",
              "    <tr>\n",
              "      <th>3</th>\n",
              "      <td>1</td>\n",
              "      <td>18</td>\n",
              "      <td>4</td>\n",
              "      <td>1</td>\n",
              "      <td>0.753519</td>\n",
              "      <td>27</td>\n",
              "      <td>-49.126598</td>\n",
              "      <td>-5.37226</td>\n",
              "      <td>3</td>\n",
              "    </tr>\n",
              "    <tr>\n",
              "      <th>4</th>\n",
              "      <td>1</td>\n",
              "      <td>18</td>\n",
              "      <td>4</td>\n",
              "      <td>1</td>\n",
              "      <td>0.753553</td>\n",
              "      <td>16</td>\n",
              "      <td>-49.126400</td>\n",
              "      <td>-5.37213</td>\n",
              "      <td>3</td>\n",
              "    </tr>\n",
              "  </tbody>\n",
              "</table>\n",
              "</div>\n",
              "      <button class=\"colab-df-convert\" onclick=\"convertToInteractive('df-1a97add9-7d51-409d-8064-9c88ab5794b3')\"\n",
              "              title=\"Convert this dataframe to an interactive table.\"\n",
              "              style=\"display:none;\">\n",
              "        \n",
              "  <svg xmlns=\"http://www.w3.org/2000/svg\" height=\"24px\"viewBox=\"0 0 24 24\"\n",
              "       width=\"24px\">\n",
              "    <path d=\"M0 0h24v24H0V0z\" fill=\"none\"/>\n",
              "    <path d=\"M18.56 5.44l.94 2.06.94-2.06 2.06-.94-2.06-.94-.94-2.06-.94 2.06-2.06.94zm-11 1L8.5 8.5l.94-2.06 2.06-.94-2.06-.94L8.5 2.5l-.94 2.06-2.06.94zm10 10l.94 2.06.94-2.06 2.06-.94-2.06-.94-.94-2.06-.94 2.06-2.06.94z\"/><path d=\"M17.41 7.96l-1.37-1.37c-.4-.4-.92-.59-1.43-.59-.52 0-1.04.2-1.43.59L10.3 9.45l-7.72 7.72c-.78.78-.78 2.05 0 2.83L4 21.41c.39.39.9.59 1.41.59.51 0 1.02-.2 1.41-.59l7.78-7.78 2.81-2.81c.8-.78.8-2.07 0-2.86zM5.41 20L4 18.59l7.72-7.72 1.47 1.35L5.41 20z\"/>\n",
              "  </svg>\n",
              "      </button>\n",
              "      \n",
              "  <style>\n",
              "    .colab-df-container {\n",
              "      display:flex;\n",
              "      flex-wrap:wrap;\n",
              "      gap: 12px;\n",
              "    }\n",
              "\n",
              "    .colab-df-convert {\n",
              "      background-color: #E8F0FE;\n",
              "      border: none;\n",
              "      border-radius: 50%;\n",
              "      cursor: pointer;\n",
              "      display: none;\n",
              "      fill: #1967D2;\n",
              "      height: 32px;\n",
              "      padding: 0 0 0 0;\n",
              "      width: 32px;\n",
              "    }\n",
              "\n",
              "    .colab-df-convert:hover {\n",
              "      background-color: #E2EBFA;\n",
              "      box-shadow: 0px 1px 2px rgba(60, 64, 67, 0.3), 0px 1px 3px 1px rgba(60, 64, 67, 0.15);\n",
              "      fill: #174EA6;\n",
              "    }\n",
              "\n",
              "    [theme=dark] .colab-df-convert {\n",
              "      background-color: #3B4455;\n",
              "      fill: #D2E3FC;\n",
              "    }\n",
              "\n",
              "    [theme=dark] .colab-df-convert:hover {\n",
              "      background-color: #434B5C;\n",
              "      box-shadow: 0px 1px 3px 1px rgba(0, 0, 0, 0.15);\n",
              "      filter: drop-shadow(0px 1px 2px rgba(0, 0, 0, 0.3));\n",
              "      fill: #FFFFFF;\n",
              "    }\n",
              "  </style>\n",
              "\n",
              "      <script>\n",
              "        const buttonEl =\n",
              "          document.querySelector('#df-1a97add9-7d51-409d-8064-9c88ab5794b3 button.colab-df-convert');\n",
              "        buttonEl.style.display =\n",
              "          google.colab.kernel.accessAllowed ? 'block' : 'none';\n",
              "\n",
              "        async function convertToInteractive(key) {\n",
              "          const element = document.querySelector('#df-1a97add9-7d51-409d-8064-9c88ab5794b3');\n",
              "          const dataTable =\n",
              "            await google.colab.kernel.invokeFunction('convertToInteractive',\n",
              "                                                     [key], {});\n",
              "          if (!dataTable) return;\n",
              "\n",
              "          const docLinkHtml = 'Like what you see? Visit the ' +\n",
              "            '<a target=\"_blank\" href=https://colab.research.google.com/notebooks/data_table.ipynb>data table notebook</a>'\n",
              "            + ' to learn more about interactive tables.';\n",
              "          element.innerHTML = '';\n",
              "          dataTable['output_type'] = 'display_data';\n",
              "          await google.colab.output.renderOutput(dataTable, element);\n",
              "          const docLink = document.createElement('div');\n",
              "          docLink.innerHTML = docLinkHtml;\n",
              "          element.appendChild(docLink);\n",
              "        }\n",
              "      </script>\n",
              "    </div>\n",
              "  </div>\n",
              "  "
            ]
          },
          "metadata": {},
          "execution_count": 189
        }
      ]
    },
    {
      "cell_type": "markdown",
      "source": [
        "**OBSERVAÇÕES:**\n",
        "\n",
        " Os dados categorizados (Strings) já foram convertidos em dados numéricos. Os meses foram substituidos pelos seus valores correspondentes (janeiro = 1, fevereiro = 2, etc...); os dias da semana seguem a ordem: domingo = 1, segunda = 2, etc...\n",
        "\n",
        "Os tipos de evento também foram convertidos em numeros conforme abaixo:\n",
        "\n",
        "*   \"Bocejo\" = 1\n",
        "*   \"Oclusão\" = 2\n",
        "*   \"Olhando para baixo 1\" = 3\n",
        "*   \"Olhando para baixo 2\" = 4\n",
        "*   \"Sonolência 1\" = 5\n",
        "*   \"Sonolência 2\" = 6\n",
        "\n",
        "*Olhando para baixo* signifca desviar o olhar da frente, N1 por em até 1,5 segundo e N2, 2,5 segundos.\n",
        "*Sonolência* significa fechar o olho, 1 para 1,5 segundo e 2 para 2,5 segundos.\n",
        "A ocorrência de *Sonolência 2* é o caso mais grave pois, passar 2,5 segundos, mesmo em baixa velocidade como 40km/h por exemplo, representa uma distância considerável que grande possibilidade de ocorrência de um acidente catratrófico.\n"
      ],
      "metadata": {
        "id": "30jcdJjYgqNu"
      }
    },
    {
      "cell_type": "code",
      "source": [
        "#Identificando o tipo de variável\n",
        "df.dtypes"
      ],
      "metadata": {
        "colab": {
          "base_uri": "https://localhost:8080/"
        },
        "id": "WAM4uiwAbYxQ",
        "outputId": "aee02970-919c-4551-94e9-bf6716cdec5c"
      },
      "execution_count": null,
      "outputs": [
        {
          "output_type": "execute_result",
          "data": {
            "text/plain": [
              "idveiculo        int64\n",
              "dia              int64\n",
              "mes              int64\n",
              "diadasemana      int64\n",
              "hora           float64\n",
              "Velocidade       int64\n",
              "Longitude      float64\n",
              "Latitude       float64\n",
              "Eventos          int64\n",
              "dtype: object"
            ]
          },
          "metadata": {},
          "execution_count": 190
        }
      ]
    },
    {
      "cell_type": "markdown",
      "source": [
        "As variáveis \"idveiculo\", \"dia\", \"diadasemana\", \"mes\" e \"Eventos\" são discretas e as variáveis \"hora\", \"velocidade\", \"Latitude\" e \"Longitude\" são contínuas."
      ],
      "metadata": {
        "id": "D7aZ0PkbrkGp"
      }
    },
    {
      "cell_type": "markdown",
      "source": [
        "**Estatística descritiva do dataset**"
      ],
      "metadata": {
        "id": "tVYI9PJwtSa0"
      }
    },
    {
      "cell_type": "code",
      "source": [
        "df.describe()"
      ],
      "metadata": {
        "colab": {
          "base_uri": "https://localhost:8080/",
          "height": 300
        },
        "id": "NxnqrbRbtFKg",
        "outputId": "5ab7834e-9c64-4047-f8fb-7c7bccd3f714"
      },
      "execution_count": null,
      "outputs": [
        {
          "output_type": "execute_result",
          "data": {
            "text/plain": [
              "          idveiculo           dia           mes  diadasemana          hora  \\\n",
              "count  23801.000000  23801.000000  23801.000000  23801.00000  23801.000000   \n",
              "mean     102.073274     17.723205      4.658796      3.86135      0.497806   \n",
              "std       71.228369      9.336651      0.643196      1.85792      0.240141   \n",
              "min        1.000000      1.000000      3.000000      1.00000      0.000116   \n",
              "25%       46.000000     10.000000      4.000000      2.00000      0.287847   \n",
              "50%       78.000000     20.000000      5.000000      4.00000      0.423449   \n",
              "75%      170.000000     26.000000      5.000000      5.00000      0.730891   \n",
              "max      229.000000     31.000000      6.000000      7.00000      0.999907   \n",
              "\n",
              "         Velocidade     Longitude      Latitude       Eventos  \n",
              "count  23801.000000  23801.000000  23801.000000  23801.000000  \n",
              "mean      35.086635    -44.291831     -2.572519      2.994580  \n",
              "std       11.742313      0.846938      0.146979      0.274268  \n",
              "min       15.000000    -49.141701     -5.428300      1.000000  \n",
              "25%       26.000000    -44.334400     -2.582080      3.000000  \n",
              "50%       34.000000    -44.323898     -2.568040      3.000000  \n",
              "75%       44.000000    -44.228802     -2.554150      3.000000  \n",
              "max       79.000000     44.329201      2.571570      6.000000  "
            ],
            "text/html": [
              "\n",
              "  <div id=\"df-b56c47d7-6388-434a-8a30-7af0de422420\">\n",
              "    <div class=\"colab-df-container\">\n",
              "      <div>\n",
              "<style scoped>\n",
              "    .dataframe tbody tr th:only-of-type {\n",
              "        vertical-align: middle;\n",
              "    }\n",
              "\n",
              "    .dataframe tbody tr th {\n",
              "        vertical-align: top;\n",
              "    }\n",
              "\n",
              "    .dataframe thead th {\n",
              "        text-align: right;\n",
              "    }\n",
              "</style>\n",
              "<table border=\"1\" class=\"dataframe\">\n",
              "  <thead>\n",
              "    <tr style=\"text-align: right;\">\n",
              "      <th></th>\n",
              "      <th>idveiculo</th>\n",
              "      <th>dia</th>\n",
              "      <th>mes</th>\n",
              "      <th>diadasemana</th>\n",
              "      <th>hora</th>\n",
              "      <th>Velocidade</th>\n",
              "      <th>Longitude</th>\n",
              "      <th>Latitude</th>\n",
              "      <th>Eventos</th>\n",
              "    </tr>\n",
              "  </thead>\n",
              "  <tbody>\n",
              "    <tr>\n",
              "      <th>count</th>\n",
              "      <td>23801.000000</td>\n",
              "      <td>23801.000000</td>\n",
              "      <td>23801.000000</td>\n",
              "      <td>23801.00000</td>\n",
              "      <td>23801.000000</td>\n",
              "      <td>23801.000000</td>\n",
              "      <td>23801.000000</td>\n",
              "      <td>23801.000000</td>\n",
              "      <td>23801.000000</td>\n",
              "    </tr>\n",
              "    <tr>\n",
              "      <th>mean</th>\n",
              "      <td>102.073274</td>\n",
              "      <td>17.723205</td>\n",
              "      <td>4.658796</td>\n",
              "      <td>3.86135</td>\n",
              "      <td>0.497806</td>\n",
              "      <td>35.086635</td>\n",
              "      <td>-44.291831</td>\n",
              "      <td>-2.572519</td>\n",
              "      <td>2.994580</td>\n",
              "    </tr>\n",
              "    <tr>\n",
              "      <th>std</th>\n",
              "      <td>71.228369</td>\n",
              "      <td>9.336651</td>\n",
              "      <td>0.643196</td>\n",
              "      <td>1.85792</td>\n",
              "      <td>0.240141</td>\n",
              "      <td>11.742313</td>\n",
              "      <td>0.846938</td>\n",
              "      <td>0.146979</td>\n",
              "      <td>0.274268</td>\n",
              "    </tr>\n",
              "    <tr>\n",
              "      <th>min</th>\n",
              "      <td>1.000000</td>\n",
              "      <td>1.000000</td>\n",
              "      <td>3.000000</td>\n",
              "      <td>1.00000</td>\n",
              "      <td>0.000116</td>\n",
              "      <td>15.000000</td>\n",
              "      <td>-49.141701</td>\n",
              "      <td>-5.428300</td>\n",
              "      <td>1.000000</td>\n",
              "    </tr>\n",
              "    <tr>\n",
              "      <th>25%</th>\n",
              "      <td>46.000000</td>\n",
              "      <td>10.000000</td>\n",
              "      <td>4.000000</td>\n",
              "      <td>2.00000</td>\n",
              "      <td>0.287847</td>\n",
              "      <td>26.000000</td>\n",
              "      <td>-44.334400</td>\n",
              "      <td>-2.582080</td>\n",
              "      <td>3.000000</td>\n",
              "    </tr>\n",
              "    <tr>\n",
              "      <th>50%</th>\n",
              "      <td>78.000000</td>\n",
              "      <td>20.000000</td>\n",
              "      <td>5.000000</td>\n",
              "      <td>4.00000</td>\n",
              "      <td>0.423449</td>\n",
              "      <td>34.000000</td>\n",
              "      <td>-44.323898</td>\n",
              "      <td>-2.568040</td>\n",
              "      <td>3.000000</td>\n",
              "    </tr>\n",
              "    <tr>\n",
              "      <th>75%</th>\n",
              "      <td>170.000000</td>\n",
              "      <td>26.000000</td>\n",
              "      <td>5.000000</td>\n",
              "      <td>5.00000</td>\n",
              "      <td>0.730891</td>\n",
              "      <td>44.000000</td>\n",
              "      <td>-44.228802</td>\n",
              "      <td>-2.554150</td>\n",
              "      <td>3.000000</td>\n",
              "    </tr>\n",
              "    <tr>\n",
              "      <th>max</th>\n",
              "      <td>229.000000</td>\n",
              "      <td>31.000000</td>\n",
              "      <td>6.000000</td>\n",
              "      <td>7.00000</td>\n",
              "      <td>0.999907</td>\n",
              "      <td>79.000000</td>\n",
              "      <td>44.329201</td>\n",
              "      <td>2.571570</td>\n",
              "      <td>6.000000</td>\n",
              "    </tr>\n",
              "  </tbody>\n",
              "</table>\n",
              "</div>\n",
              "      <button class=\"colab-df-convert\" onclick=\"convertToInteractive('df-b56c47d7-6388-434a-8a30-7af0de422420')\"\n",
              "              title=\"Convert this dataframe to an interactive table.\"\n",
              "              style=\"display:none;\">\n",
              "        \n",
              "  <svg xmlns=\"http://www.w3.org/2000/svg\" height=\"24px\"viewBox=\"0 0 24 24\"\n",
              "       width=\"24px\">\n",
              "    <path d=\"M0 0h24v24H0V0z\" fill=\"none\"/>\n",
              "    <path d=\"M18.56 5.44l.94 2.06.94-2.06 2.06-.94-2.06-.94-.94-2.06-.94 2.06-2.06.94zm-11 1L8.5 8.5l.94-2.06 2.06-.94-2.06-.94L8.5 2.5l-.94 2.06-2.06.94zm10 10l.94 2.06.94-2.06 2.06-.94-2.06-.94-.94-2.06-.94 2.06-2.06.94z\"/><path d=\"M17.41 7.96l-1.37-1.37c-.4-.4-.92-.59-1.43-.59-.52 0-1.04.2-1.43.59L10.3 9.45l-7.72 7.72c-.78.78-.78 2.05 0 2.83L4 21.41c.39.39.9.59 1.41.59.51 0 1.02-.2 1.41-.59l7.78-7.78 2.81-2.81c.8-.78.8-2.07 0-2.86zM5.41 20L4 18.59l7.72-7.72 1.47 1.35L5.41 20z\"/>\n",
              "  </svg>\n",
              "      </button>\n",
              "      \n",
              "  <style>\n",
              "    .colab-df-container {\n",
              "      display:flex;\n",
              "      flex-wrap:wrap;\n",
              "      gap: 12px;\n",
              "    }\n",
              "\n",
              "    .colab-df-convert {\n",
              "      background-color: #E8F0FE;\n",
              "      border: none;\n",
              "      border-radius: 50%;\n",
              "      cursor: pointer;\n",
              "      display: none;\n",
              "      fill: #1967D2;\n",
              "      height: 32px;\n",
              "      padding: 0 0 0 0;\n",
              "      width: 32px;\n",
              "    }\n",
              "\n",
              "    .colab-df-convert:hover {\n",
              "      background-color: #E2EBFA;\n",
              "      box-shadow: 0px 1px 2px rgba(60, 64, 67, 0.3), 0px 1px 3px 1px rgba(60, 64, 67, 0.15);\n",
              "      fill: #174EA6;\n",
              "    }\n",
              "\n",
              "    [theme=dark] .colab-df-convert {\n",
              "      background-color: #3B4455;\n",
              "      fill: #D2E3FC;\n",
              "    }\n",
              "\n",
              "    [theme=dark] .colab-df-convert:hover {\n",
              "      background-color: #434B5C;\n",
              "      box-shadow: 0px 1px 3px 1px rgba(0, 0, 0, 0.15);\n",
              "      filter: drop-shadow(0px 1px 2px rgba(0, 0, 0, 0.3));\n",
              "      fill: #FFFFFF;\n",
              "    }\n",
              "  </style>\n",
              "\n",
              "      <script>\n",
              "        const buttonEl =\n",
              "          document.querySelector('#df-b56c47d7-6388-434a-8a30-7af0de422420 button.colab-df-convert');\n",
              "        buttonEl.style.display =\n",
              "          google.colab.kernel.accessAllowed ? 'block' : 'none';\n",
              "\n",
              "        async function convertToInteractive(key) {\n",
              "          const element = document.querySelector('#df-b56c47d7-6388-434a-8a30-7af0de422420');\n",
              "          const dataTable =\n",
              "            await google.colab.kernel.invokeFunction('convertToInteractive',\n",
              "                                                     [key], {});\n",
              "          if (!dataTable) return;\n",
              "\n",
              "          const docLinkHtml = 'Like what you see? Visit the ' +\n",
              "            '<a target=\"_blank\" href=https://colab.research.google.com/notebooks/data_table.ipynb>data table notebook</a>'\n",
              "            + ' to learn more about interactive tables.';\n",
              "          element.innerHTML = '';\n",
              "          dataTable['output_type'] = 'display_data';\n",
              "          await google.colab.output.renderOutput(dataTable, element);\n",
              "          const docLink = document.createElement('div');\n",
              "          docLink.innerHTML = docLinkHtml;\n",
              "          element.appendChild(docLink);\n",
              "        }\n",
              "      </script>\n",
              "    </div>\n",
              "  </div>\n",
              "  "
            ]
          },
          "metadata": {},
          "execution_count": 191
        }
      ]
    },
    {
      "cell_type": "markdown",
      "source": [
        "**Distribuição de Frequência das Variáveis**"
      ],
      "metadata": {
        "id": "lVndiFEB01Pc"
      }
    },
    {
      "cell_type": "code",
      "source": [
        "df.hist(['idveiculo', 'dia', 'mes', 'diadasemana', 'hora', 'Velocidade'], figsize=(15,10), color='#96a8a8')\n",
        "\n",
        "# Estilo dos gráficos\n",
        "plt.style.use('seaborn')\n",
        "\n",
        "# Ajustar o layout\n",
        "plt.subplots_adjust( hspace=0.35, wspace=0.15 )\n",
        "\n",
        "plt.tight_layout()"
      ],
      "metadata": {
        "colab": {
          "base_uri": "https://localhost:8080/",
          "height": 728
        },
        "id": "Nkb0bOVYon2P",
        "outputId": "e4776bd5-bcf8-4eb3-e14d-eb5855308ab7"
      },
      "execution_count": null,
      "outputs": [
        {
          "output_type": "display_data",
          "data": {
            "text/plain": [
              "<Figure size 1080x720 with 6 Axes>"
            ],
            "image/png": "[encoded data removed]"
          },
          "metadata": {
            "needs_background": "light"
          }
        }
      ]
    },
    {
      "cell_type": "markdown",
      "source": [
        "**Analisando a correlação entre as variáveis**"
      ],
      "metadata": {
        "id": "XKCXGANSm6sv"
      }
    },
    {
      "cell_type": "code",
      "source": [
        "# Mapa de calor de correlação\n",
        "plt.figure(figsize=(17,8))\n",
        "sns.heatmap(df.corr(), annot = True, cmap='Blues')\n",
        "plt.title('Matriz de correlação', fontsize = 20, pad = 20)\n",
        "plt.show()"
      ],
      "metadata": {
        "colab": {
          "base_uri": "https://localhost:8080/",
          "height": 517
        },
        "id": "QQUTanpEcI5b",
        "outputId": "5b4860cf-cc8e-4ab6-b993-73d57280e552"
      },
      "execution_count": null,
      "outputs": [
        {
          "output_type": "display_data",
          "data": {
            "text/plain": [
              "<Figure size 1224x576 with 2 Axes>"
            ],
            "image/png": "[encoded data removed]"
          },
          "metadata": {}
        }
      ]
    },
    {
      "cell_type": "markdown",
      "source": [
        "Observando as correlações entre os \"eventos\" e as demais variáveis, todas correlação muito baixa, numa escala de \"zero\" a \"1\", os valores não passam de 10%."
      ],
      "metadata": {
        "id": "OTX3EkM2-7jd"
      }
    },
    {
      "cell_type": "markdown",
      "source": [
        "##Analisando a Variável \"Eventos\"\n"
      ],
      "metadata": {
        "id": "7MtDoox3q_oh"
      }
    },
    {
      "cell_type": "code",
      "source": [
        "#Contangem de Eventos por Tipo\n",
        "df['Eventos'].value_counts().to_frame()"
      ],
      "metadata": {
        "colab": {
          "base_uri": "https://localhost:8080/",
          "height": 237
        },
        "id": "dEOLGXIH8Qh3",
        "outputId": "d327816e-c757-4e7f-8e7a-6d7487c40b7c"
      },
      "execution_count": null,
      "outputs": [
        {
          "output_type": "execute_result",
          "data": {
            "text/plain": [
              "   Eventos\n",
              "3    23326\n",
              "1      251\n",
              "5      185\n",
              "2       19\n",
              "4       19\n",
              "6        1"
            ],
            "text/html": [
              "\n",
              "  <div id=\"df-1eaaae7e-fb91-4b9d-bde5-82deaf68f4a9\">\n",
              "    <div class=\"colab-df-container\">\n",
              "      <div>\n",
              "<style scoped>\n",
              "    .dataframe tbody tr th:only-of-type {\n",
              "        vertical-align: middle;\n",
              "    }\n",
              "\n",
              "    .dataframe tbody tr th {\n",
              "        vertical-align: top;\n",
              "    }\n",
              "\n",
              "    .dataframe thead th {\n",
              "        text-align: right;\n",
              "    }\n",
              "</style>\n",
              "<table border=\"1\" class=\"dataframe\">\n",
              "  <thead>\n",
              "    <tr style=\"text-align: right;\">\n",
              "      <th></th>\n",
              "      <th>Eventos</th>\n",
              "    </tr>\n",
              "  </thead>\n",
              "  <tbody>\n",
              "    <tr>\n",
              "      <th>3</th>\n",
              "      <td>23326</td>\n",
              "    </tr>\n",
              "    <tr>\n",
              "      <th>1</th>\n",
              "      <td>251</td>\n",
              "    </tr>\n",
              "    <tr>\n",
              "      <th>5</th>\n",
              "      <td>185</td>\n",
              "    </tr>\n",
              "    <tr>\n",
              "      <th>2</th>\n",
              "      <td>19</td>\n",
              "    </tr>\n",
              "    <tr>\n",
              "      <th>4</th>\n",
              "      <td>19</td>\n",
              "    </tr>\n",
              "    <tr>\n",
              "      <th>6</th>\n",
              "      <td>1</td>\n",
              "    </tr>\n",
              "  </tbody>\n",
              "</table>\n",
              "</div>\n",
              "      <button class=\"colab-df-convert\" onclick=\"convertToInteractive('df-1eaaae7e-fb91-4b9d-bde5-82deaf68f4a9')\"\n",
              "              title=\"Convert this dataframe to an interactive table.\"\n",
              "              style=\"display:none;\">\n",
              "        \n",
              "  <svg xmlns=\"http://www.w3.org/2000/svg\" height=\"24px\"viewBox=\"0 0 24 24\"\n",
              "       width=\"24px\">\n",
              "    <path d=\"M0 0h24v24H0V0z\" fill=\"none\"/>\n",
              "    <path d=\"M18.56 5.44l.94 2.06.94-2.06 2.06-.94-2.06-.94-.94-2.06-.94 2.06-2.06.94zm-11 1L8.5 8.5l.94-2.06 2.06-.94-2.06-.94L8.5 2.5l-.94 2.06-2.06.94zm10 10l.94 2.06.94-2.06 2.06-.94-2.06-.94-.94-2.06-.94 2.06-2.06.94z\"/><path d=\"M17.41 7.96l-1.37-1.37c-.4-.4-.92-.59-1.43-.59-.52 0-1.04.2-1.43.59L10.3 9.45l-7.72 7.72c-.78.78-.78 2.05 0 2.83L4 21.41c.39.39.9.59 1.41.59.51 0 1.02-.2 1.41-.59l7.78-7.78 2.81-2.81c.8-.78.8-2.07 0-2.86zM5.41 20L4 18.59l7.72-7.72 1.47 1.35L5.41 20z\"/>\n",
              "  </svg>\n",
              "      </button>\n",
              "      \n",
              "  <style>\n",
              "    .colab-df-container {\n",
              "      display:flex;\n",
              "      flex-wrap:wrap;\n",
              "      gap: 12px;\n",
              "    }\n",
              "\n",
              "    .colab-df-convert {\n",
              "      background-color: #E8F0FE;\n",
              "      border: none;\n",
              "      border-radius: 50%;\n",
              "      cursor: pointer;\n",
              "      display: none;\n",
              "      fill: #1967D2;\n",
              "      height: 32px;\n",
              "      padding: 0 0 0 0;\n",
              "      width: 32px;\n",
              "    }\n",
              "\n",
              "    .colab-df-convert:hover {\n",
              "      background-color: #E2EBFA;\n",
              "      box-shadow: 0px 1px 2px rgba(60, 64, 67, 0.3), 0px 1px 3px 1px rgba(60, 64, 67, 0.15);\n",
              "      fill: #174EA6;\n",
              "    }\n",
              "\n",
              "    [theme=dark] .colab-df-convert {\n",
              "      background-color: #3B4455;\n",
              "      fill: #D2E3FC;\n",
              "    }\n",
              "\n",
              "    [theme=dark] .colab-df-convert:hover {\n",
              "      background-color: #434B5C;\n",
              "      box-shadow: 0px 1px 3px 1px rgba(0, 0, 0, 0.15);\n",
              "      filter: drop-shadow(0px 1px 2px rgba(0, 0, 0, 0.3));\n",
              "      fill: #FFFFFF;\n",
              "    }\n",
              "  </style>\n",
              "\n",
              "      <script>\n",
              "        const buttonEl =\n",
              "          document.querySelector('#df-1eaaae7e-fb91-4b9d-bde5-82deaf68f4a9 button.colab-df-convert');\n",
              "        buttonEl.style.display =\n",
              "          google.colab.kernel.accessAllowed ? 'block' : 'none';\n",
              "\n",
              "        async function convertToInteractive(key) {\n",
              "          const element = document.querySelector('#df-1eaaae7e-fb91-4b9d-bde5-82deaf68f4a9');\n",
              "          const dataTable =\n",
              "            await google.colab.kernel.invokeFunction('convertToInteractive',\n",
              "                                                     [key], {});\n",
              "          if (!dataTable) return;\n",
              "\n",
              "          const docLinkHtml = 'Like what you see? Visit the ' +\n",
              "            '<a target=\"_blank\" href=https://colab.research.google.com/notebooks/data_table.ipynb>data table notebook</a>'\n",
              "            + ' to learn more about interactive tables.';\n",
              "          element.innerHTML = '';\n",
              "          dataTable['output_type'] = 'display_data';\n",
              "          await google.colab.output.renderOutput(dataTable, element);\n",
              "          const docLink = document.createElement('div');\n",
              "          docLink.innerHTML = docLinkHtml;\n",
              "          element.appendChild(docLink);\n",
              "        }\n",
              "      </script>\n",
              "    </div>\n",
              "  </div>\n",
              "  "
            ]
          },
          "metadata": {},
          "execution_count": 194
        }
      ]
    },
    {
      "cell_type": "code",
      "source": [
        "# Plotando o gráfico com a quantidade de ocorrências por tipo de \"Evento\"\n",
        "plt.figure(figsize=(10,4));\n",
        "df['Eventos'].hist()\n",
        "plt.tight_layout()"
      ],
      "metadata": {
        "colab": {
          "base_uri": "https://localhost:8080/",
          "height": 296
        },
        "id": "TZosMnoW2FIs",
        "outputId": "0ad51c95-31f7-4ebd-98bf-f0daa7b094b3"
      },
      "execution_count": null,
      "outputs": [
        {
          "output_type": "display_data",
          "data": {
            "text/plain": [
              "<Figure size 720x288 with 1 Axes>"
            ],
            "image/png": "[encoded data removed]"
          },
          "metadata": {}
        }
      ]
    },
    {
      "cell_type": "markdown",
      "source": [
        "Nota-se quantidade do evento \"3\" é extremamente superior aos demais e esse fato exigiu um aprofundamento do entendimento do dado. \n",
        "\n",
        "\n",
        "\n",
        "Analisando a origem do dado, da forma como é captada pelo sistema de detecção de fadiga e sonolência até o critério lógico do sistema para considera-lo uma ocorrência válida, identificou-se com o sendo considerando uma falha no sistema de detecção - equipamento muito \"sensível\" à captação do \"olhar para baixo\" em até 1,5 segundos. Criou-se um novo dataset sem esses dados. "
      ],
      "metadata": {
        "id": "GZpLz31ICN5o"
      }
    },
    {
      "cell_type": "code",
      "source": [
        "df.head()"
      ],
      "metadata": {
        "colab": {
          "base_uri": "https://localhost:8080/",
          "height": 206
        },
        "id": "sE7jgG7YxVsg",
        "outputId": "2badc71c-a326-4178-f7a7-9413d9e77ac5"
      },
      "execution_count": null,
      "outputs": [
        {
          "output_type": "execute_result",
          "data": {
            "text/plain": [
              "   idveiculo  dia  mes  diadasemana      hora  Velocidade  Longitude  \\\n",
              "0         33    2    3            3  0.097778          32 -49.141701   \n",
              "1         34   24    3            4  0.397986          32 -49.131100   \n",
              "2         34   16    3            3  0.672743          25 -49.130100   \n",
              "3          1   18    4            1  0.753519          27 -49.126598   \n",
              "4          1   18    4            1  0.753553          16 -49.126400   \n",
              "\n",
              "   Latitude  Eventos  \n",
              "0  -5.38801        3  \n",
              "1  -5.37021        3  \n",
              "2  -5.38569        3  \n",
              "3  -5.37226        3  \n",
              "4  -5.37213        3  "
            ],
            "text/html": [
              "\n",
              "  <div id=\"df-eb50f3a0-1c66-4f63-8259-03f83da75718\">\n",
              "    <div class=\"colab-df-container\">\n",
              "      <div>\n",
              "<style scoped>\n",
              "    .dataframe tbody tr th:only-of-type {\n",
              "        vertical-align: middle;\n",
              "    }\n",
              "\n",
              "    .dataframe tbody tr th {\n",
              "        vertical-align: top;\n",
              "    }\n",
              "\n",
              "    .dataframe thead th {\n",
              "        text-align: right;\n",
              "    }\n",
              "</style>\n",
              "<table border=\"1\" class=\"dataframe\">\n",
              "  <thead>\n",
              "    <tr style=\"text-align: right;\">\n",
              "      <th></th>\n",
              "      <th>idveiculo</th>\n",
              "      <th>dia</th>\n",
              "      <th>mes</th>\n",
              "      <th>diadasemana</th>\n",
              "      <th>hora</th>\n",
              "      <th>Velocidade</th>\n",
              "      <th>Longitude</th>\n",
              "      <th>Latitude</th>\n",
              "      <th>Eventos</th>\n",
              "    </tr>\n",
              "  </thead>\n",
              "  <tbody>\n",
              "    <tr>\n",
              "      <th>0</th>\n",
              "      <td>33</td>\n",
              "      <td>2</td>\n",
              "      <td>3</td>\n",
              "      <td>3</td>\n",
              "      <td>0.097778</td>\n",
              "      <td>32</td>\n",
              "      <td>-49.141701</td>\n",
              "      <td>-5.38801</td>\n",
              "      <td>3</td>\n",
              "    </tr>\n",
              "    <tr>\n",
              "      <th>1</th>\n",
              "      <td>34</td>\n",
              "      <td>24</td>\n",
              "      <td>3</td>\n",
              "      <td>4</td>\n",
              "      <td>0.397986</td>\n",
              "      <td>32</td>\n",
              "      <td>-49.131100</td>\n",
              "      <td>-5.37021</td>\n",
              "      <td>3</td>\n",
              "    </tr>\n",
              "    <tr>\n",
              "      <th>2</th>\n",
              "      <td>34</td>\n",
              "      <td>16</td>\n",
              "      <td>3</td>\n",
              "      <td>3</td>\n",
              "      <td>0.672743</td>\n",
              "      <td>25</td>\n",
              "      <td>-49.130100</td>\n",
              "      <td>-5.38569</td>\n",
              "      <td>3</td>\n",
              "    </tr>\n",
              "    <tr>\n",
              "      <th>3</th>\n",
              "      <td>1</td>\n",
              "      <td>18</td>\n",
              "      <td>4</td>\n",
              "      <td>1</td>\n",
              "      <td>0.753519</td>\n",
              "      <td>27</td>\n",
              "      <td>-49.126598</td>\n",
              "      <td>-5.37226</td>\n",
              "      <td>3</td>\n",
              "    </tr>\n",
              "    <tr>\n",
              "      <th>4</th>\n",
              "      <td>1</td>\n",
              "      <td>18</td>\n",
              "      <td>4</td>\n",
              "      <td>1</td>\n",
              "      <td>0.753553</td>\n",
              "      <td>16</td>\n",
              "      <td>-49.126400</td>\n",
              "      <td>-5.37213</td>\n",
              "      <td>3</td>\n",
              "    </tr>\n",
              "  </tbody>\n",
              "</table>\n",
              "</div>\n",
              "      <button class=\"colab-df-convert\" onclick=\"convertToInteractive('df-eb50f3a0-1c66-4f63-8259-03f83da75718')\"\n",
              "              title=\"Convert this dataframe to an interactive table.\"\n",
              "              style=\"display:none;\">\n",
              "        \n",
              "  <svg xmlns=\"http://www.w3.org/2000/svg\" height=\"24px\"viewBox=\"0 0 24 24\"\n",
              "       width=\"24px\">\n",
              "    <path d=\"M0 0h24v24H0V0z\" fill=\"none\"/>\n",
              "    <path d=\"M18.56 5.44l.94 2.06.94-2.06 2.06-.94-2.06-.94-.94-2.06-.94 2.06-2.06.94zm-11 1L8.5 8.5l.94-2.06 2.06-.94-2.06-.94L8.5 2.5l-.94 2.06-2.06.94zm10 10l.94 2.06.94-2.06 2.06-.94-2.06-.94-.94-2.06-.94 2.06-2.06.94z\"/><path d=\"M17.41 7.96l-1.37-1.37c-.4-.4-.92-.59-1.43-.59-.52 0-1.04.2-1.43.59L10.3 9.45l-7.72 7.72c-.78.78-.78 2.05 0 2.83L4 21.41c.39.39.9.59 1.41.59.51 0 1.02-.2 1.41-.59l7.78-7.78 2.81-2.81c.8-.78.8-2.07 0-2.86zM5.41 20L4 18.59l7.72-7.72 1.47 1.35L5.41 20z\"/>\n",
              "  </svg>\n",
              "      </button>\n",
              "      \n",
              "  <style>\n",
              "    .colab-df-container {\n",
              "      display:flex;\n",
              "      flex-wrap:wrap;\n",
              "      gap: 12px;\n",
              "    }\n",
              "\n",
              "    .colab-df-convert {\n",
              "      background-color: #E8F0FE;\n",
              "      border: none;\n",
              "      border-radius: 50%;\n",
              "      cursor: pointer;\n",
              "      display: none;\n",
              "      fill: #1967D2;\n",
              "      height: 32px;\n",
              "      padding: 0 0 0 0;\n",
              "      width: 32px;\n",
              "    }\n",
              "\n",
              "    .colab-df-convert:hover {\n",
              "      background-color: #E2EBFA;\n",
              "      box-shadow: 0px 1px 2px rgba(60, 64, 67, 0.3), 0px 1px 3px 1px rgba(60, 64, 67, 0.15);\n",
              "      fill: #174EA6;\n",
              "    }\n",
              "\n",
              "    [theme=dark] .colab-df-convert {\n",
              "      background-color: #3B4455;\n",
              "      fill: #D2E3FC;\n",
              "    }\n",
              "\n",
              "    [theme=dark] .colab-df-convert:hover {\n",
              "      background-color: #434B5C;\n",
              "      box-shadow: 0px 1px 3px 1px rgba(0, 0, 0, 0.15);\n",
              "      filter: drop-shadow(0px 1px 2px rgba(0, 0, 0, 0.3));\n",
              "      fill: #FFFFFF;\n",
              "    }\n",
              "  </style>\n",
              "\n",
              "      <script>\n",
              "        const buttonEl =\n",
              "          document.querySelector('#df-eb50f3a0-1c66-4f63-8259-03f83da75718 button.colab-df-convert');\n",
              "        buttonEl.style.display =\n",
              "          google.colab.kernel.accessAllowed ? 'block' : 'none';\n",
              "\n",
              "        async function convertToInteractive(key) {\n",
              "          const element = document.querySelector('#df-eb50f3a0-1c66-4f63-8259-03f83da75718');\n",
              "          const dataTable =\n",
              "            await google.colab.kernel.invokeFunction('convertToInteractive',\n",
              "                                                     [key], {});\n",
              "          if (!dataTable) return;\n",
              "\n",
              "          const docLinkHtml = 'Like what you see? Visit the ' +\n",
              "            '<a target=\"_blank\" href=https://colab.research.google.com/notebooks/data_table.ipynb>data table notebook</a>'\n",
              "            + ' to learn more about interactive tables.';\n",
              "          element.innerHTML = '';\n",
              "          dataTable['output_type'] = 'display_data';\n",
              "          await google.colab.output.renderOutput(dataTable, element);\n",
              "          const docLink = document.createElement('div');\n",
              "          docLink.innerHTML = docLinkHtml;\n",
              "          element.appendChild(docLink);\n",
              "        }\n",
              "      </script>\n",
              "    </div>\n",
              "  </div>\n",
              "  "
            ]
          },
          "metadata": {},
          "execution_count": 196
        }
      ]
    },
    {
      "cell_type": "code",
      "source": [
        "#filtrando o Evento 3 para construção do novo Dataframe\n",
        "filtro  = df['Eventos'] != 3\n",
        "df2 = df[filtro]\n",
        "df2.head()\n",
        "df2.value_counts().to_frame()\n",
        "df2.shape"
      ],
      "metadata": {
        "colab": {
          "base_uri": "https://localhost:8080/"
        },
        "id": "uL7VIO42I6A5",
        "outputId": "e3bb225f-a26c-4d5e-ced1-7166685f533a"
      },
      "execution_count": null,
      "outputs": [
        {
          "output_type": "execute_result",
          "data": {
            "text/plain": [
              "(475, 9)"
            ]
          },
          "metadata": {},
          "execution_count": 197
        }
      ]
    },
    {
      "cell_type": "code",
      "source": [
        "df2.head()\n"
      ],
      "metadata": {
        "colab": {
          "base_uri": "https://localhost:8080/",
          "height": 206
        },
        "id": "WEBfOYwNxQdd",
        "outputId": "7b05779a-2ffd-4dd3-83c0-56d18f948940"
      },
      "execution_count": null,
      "outputs": [
        {
          "output_type": "execute_result",
          "data": {
            "text/plain": [
              "    idveiculo  dia  mes  diadasemana      hora  Velocidade  Longitude  \\\n",
              "59         37   10    3            4  0.836736          21 -44.379200   \n",
              "61         37    8    3            2  0.399965          18 -44.378601   \n",
              "67         11   20    4            3  0.930914          18 -44.377800   \n",
              "72        150   13    4            3  0.677465          15 -44.377701   \n",
              "79         37   10    3            4  0.879120          23 -44.377399   \n",
              "\n",
              "    Latitude  Eventos  \n",
              "59  -2.56318        1  \n",
              "61  -2.56403        1  \n",
              "67  -2.56415        1  \n",
              "72  -2.55297        2  \n",
              "79  -2.56419        1  "
            ],
            "text/html": [
              "\n",
              "  <div id=\"df-7b564f8d-57f7-41e5-848c-8d45e204d88e\">\n",
              "    <div class=\"colab-df-container\">\n",
              "      <div>\n",
              "<style scoped>\n",
              "    .dataframe tbody tr th:only-of-type {\n",
              "        vertical-align: middle;\n",
              "    }\n",
              "\n",
              "    .dataframe tbody tr th {\n",
              "        vertical-align: top;\n",
              "    }\n",
              "\n",
              "    .dataframe thead th {\n",
              "        text-align: right;\n",
              "    }\n",
              "</style>\n",
              "<table border=\"1\" class=\"dataframe\">\n",
              "  <thead>\n",
              "    <tr style=\"text-align: right;\">\n",
              "      <th></th>\n",
              "      <th>idveiculo</th>\n",
              "      <th>dia</th>\n",
              "      <th>mes</th>\n",
              "      <th>diadasemana</th>\n",
              "      <th>hora</th>\n",
              "      <th>Velocidade</th>\n",
              "      <th>Longitude</th>\n",
              "      <th>Latitude</th>\n",
              "      <th>Eventos</th>\n",
              "    </tr>\n",
              "  </thead>\n",
              "  <tbody>\n",
              "    <tr>\n",
              "      <th>59</th>\n",
              "      <td>37</td>\n",
              "      <td>10</td>\n",
              "      <td>3</td>\n",
              "      <td>4</td>\n",
              "      <td>0.836736</td>\n",
              "      <td>21</td>\n",
              "      <td>-44.379200</td>\n",
              "      <td>-2.56318</td>\n",
              "      <td>1</td>\n",
              "    </tr>\n",
              "    <tr>\n",
              "      <th>61</th>\n",
              "      <td>37</td>\n",
              "      <td>8</td>\n",
              "      <td>3</td>\n",
              "      <td>2</td>\n",
              "      <td>0.399965</td>\n",
              "      <td>18</td>\n",
              "      <td>-44.378601</td>\n",
              "      <td>-2.56403</td>\n",
              "      <td>1</td>\n",
              "    </tr>\n",
              "    <tr>\n",
              "      <th>67</th>\n",
              "      <td>11</td>\n",
              "      <td>20</td>\n",
              "      <td>4</td>\n",
              "      <td>3</td>\n",
              "      <td>0.930914</td>\n",
              "      <td>18</td>\n",
              "      <td>-44.377800</td>\n",
              "      <td>-2.56415</td>\n",
              "      <td>1</td>\n",
              "    </tr>\n",
              "    <tr>\n",
              "      <th>72</th>\n",
              "      <td>150</td>\n",
              "      <td>13</td>\n",
              "      <td>4</td>\n",
              "      <td>3</td>\n",
              "      <td>0.677465</td>\n",
              "      <td>15</td>\n",
              "      <td>-44.377701</td>\n",
              "      <td>-2.55297</td>\n",
              "      <td>2</td>\n",
              "    </tr>\n",
              "    <tr>\n",
              "      <th>79</th>\n",
              "      <td>37</td>\n",
              "      <td>10</td>\n",
              "      <td>3</td>\n",
              "      <td>4</td>\n",
              "      <td>0.879120</td>\n",
              "      <td>23</td>\n",
              "      <td>-44.377399</td>\n",
              "      <td>-2.56419</td>\n",
              "      <td>1</td>\n",
              "    </tr>\n",
              "  </tbody>\n",
              "</table>\n",
              "</div>\n",
              "      <button class=\"colab-df-convert\" onclick=\"convertToInteractive('df-7b564f8d-57f7-41e5-848c-8d45e204d88e')\"\n",
              "              title=\"Convert this dataframe to an interactive table.\"\n",
              "              style=\"display:none;\">\n",
              "        \n",
              "  <svg xmlns=\"http://www.w3.org/2000/svg\" height=\"24px\"viewBox=\"0 0 24 24\"\n",
              "       width=\"24px\">\n",
              "    <path d=\"M0 0h24v24H0V0z\" fill=\"none\"/>\n",
              "    <path d=\"M18.56 5.44l.94 2.06.94-2.06 2.06-.94-2.06-.94-.94-2.06-.94 2.06-2.06.94zm-11 1L8.5 8.5l.94-2.06 2.06-.94-2.06-.94L8.5 2.5l-.94 2.06-2.06.94zm10 10l.94 2.06.94-2.06 2.06-.94-2.06-.94-.94-2.06-.94 2.06-2.06.94z\"/><path d=\"M17.41 7.96l-1.37-1.37c-.4-.4-.92-.59-1.43-.59-.52 0-1.04.2-1.43.59L10.3 9.45l-7.72 7.72c-.78.78-.78 2.05 0 2.83L4 21.41c.39.39.9.59 1.41.59.51 0 1.02-.2 1.41-.59l7.78-7.78 2.81-2.81c.8-.78.8-2.07 0-2.86zM5.41 20L4 18.59l7.72-7.72 1.47 1.35L5.41 20z\"/>\n",
              "  </svg>\n",
              "      </button>\n",
              "      \n",
              "  <style>\n",
              "    .colab-df-container {\n",
              "      display:flex;\n",
              "      flex-wrap:wrap;\n",
              "      gap: 12px;\n",
              "    }\n",
              "\n",
              "    .colab-df-convert {\n",
              "      background-color: #E8F0FE;\n",
              "      border: none;\n",
              "      border-radius: 50%;\n",
              "      cursor: pointer;\n",
              "      display: none;\n",
              "      fill: #1967D2;\n",
              "      height: 32px;\n",
              "      padding: 0 0 0 0;\n",
              "      width: 32px;\n",
              "    }\n",
              "\n",
              "    .colab-df-convert:hover {\n",
              "      background-color: #E2EBFA;\n",
              "      box-shadow: 0px 1px 2px rgba(60, 64, 67, 0.3), 0px 1px 3px 1px rgba(60, 64, 67, 0.15);\n",
              "      fill: #174EA6;\n",
              "    }\n",
              "\n",
              "    [theme=dark] .colab-df-convert {\n",
              "      background-color: #3B4455;\n",
              "      fill: #D2E3FC;\n",
              "    }\n",
              "\n",
              "    [theme=dark] .colab-df-convert:hover {\n",
              "      background-color: #434B5C;\n",
              "      box-shadow: 0px 1px 3px 1px rgba(0, 0, 0, 0.15);\n",
              "      filter: drop-shadow(0px 1px 2px rgba(0, 0, 0, 0.3));\n",
              "      fill: #FFFFFF;\n",
              "    }\n",
              "  </style>\n",
              "\n",
              "      <script>\n",
              "        const buttonEl =\n",
              "          document.querySelector('#df-7b564f8d-57f7-41e5-848c-8d45e204d88e button.colab-df-convert');\n",
              "        buttonEl.style.display =\n",
              "          google.colab.kernel.accessAllowed ? 'block' : 'none';\n",
              "\n",
              "        async function convertToInteractive(key) {\n",
              "          const element = document.querySelector('#df-7b564f8d-57f7-41e5-848c-8d45e204d88e');\n",
              "          const dataTable =\n",
              "            await google.colab.kernel.invokeFunction('convertToInteractive',\n",
              "                                                     [key], {});\n",
              "          if (!dataTable) return;\n",
              "\n",
              "          const docLinkHtml = 'Like what you see? Visit the ' +\n",
              "            '<a target=\"_blank\" href=https://colab.research.google.com/notebooks/data_table.ipynb>data table notebook</a>'\n",
              "            + ' to learn more about interactive tables.';\n",
              "          element.innerHTML = '';\n",
              "          dataTable['output_type'] = 'display_data';\n",
              "          await google.colab.output.renderOutput(dataTable, element);\n",
              "          const docLink = document.createElement('div');\n",
              "          docLink.innerHTML = docLinkHtml;\n",
              "          element.appendChild(docLink);\n",
              "        }\n",
              "      </script>\n",
              "    </div>\n",
              "  </div>\n",
              "  "
            ]
          },
          "metadata": {},
          "execution_count": 198
        }
      ]
    },
    {
      "cell_type": "code",
      "source": [
        "# Plotando o gráfico com a quantidade de ocorrências por tipo de \"Evento\" após a correção da base\n",
        "plt.figure(figsize=(10,4));\n",
        "df2['Eventos'].hist()\n",
        "plt.tight_layout()"
      ],
      "metadata": {
        "colab": {
          "base_uri": "https://localhost:8080/",
          "height": 296
        },
        "id": "VRu0bX34yIyM",
        "outputId": "34273dac-3680-45af-e1cf-3136f63b8a87"
      },
      "execution_count": null,
      "outputs": [
        {
          "output_type": "display_data",
          "data": {
            "text/plain": [
              "<Figure size 720x288 with 1 Axes>"
            ],
            "image/png": "[encoded data removed]"
          },
          "metadata": {}
        }
      ]
    },
    {
      "cell_type": "markdown",
      "source": [
        "Para analisar a relação dos eventos com as demais variávis, verificou-se então a distribuição dos eventos ao longo do tempo:\n",
        "\n",
        "1.   Ao longo do dia;\n",
        "2.   Ao longo da semana e; \n",
        "2.   Ao longo dos meses"
      ],
      "metadata": {
        "id": "8uHJWEQTADwW"
      }
    },
    {
      "cell_type": "code",
      "source": [
        "# Ao longo do dia\n",
        "\n",
        "# Tamanho\n",
        "plt.figure( figsize=(12, 5) )\n",
        "\n",
        "# Estilo\n",
        "plt.style.use('ggplot')\n",
        "\n",
        "# titulo\n",
        "plt.title('Distribuição de Eventos ao longo do dia', loc='center', fontsize=14 )\n",
        "\n",
        "# Plot\n",
        "sns.kdeplot(df2['hora'], color='#96a8a8', shade=True,linewidth=2.5 );"
      ],
      "metadata": {
        "colab": {
          "base_uri": "https://localhost:8080/",
          "height": 353
        },
        "id": "i7Osfh9kBpKW",
        "outputId": "d4b64267-df4e-4428-fd2d-9b6b70f6d2a7"
      },
      "execution_count": null,
      "outputs": [
        {
          "output_type": "display_data",
          "data": {
            "text/plain": [
              "<Figure size 864x360 with 1 Axes>"
            ],
            "image/png": "[encoded data removed]"
          },
          "metadata": {}
        }
      ]
    },
    {
      "cell_type": "markdown",
      "source": [
        "O gráfico sugere 2 \"picos\" de ocorrências de eventos, um que corresponderia ao horario de entrada dos empregados e o outro na saída do turno da noite. Obviamente os picos coincidem com os momentos de marior movimentação dos empregados pois nos horários intermediários, a maioria dos veiculos estão na garagem e alguns poucos fazem viagens de distribuição interna na empresa."
      ],
      "metadata": {
        "id": "Fh1NO3EqMut4"
      }
    },
    {
      "cell_type": "code",
      "source": [
        "# Ao longo da semana\n",
        "\n",
        "\n",
        "# Tamanho da imagem\n",
        "plt.figure( figsize=(10, 5) )\n",
        "\n",
        "# Titulo\n",
        "plt.title('Qtd de Eventos por dia da semana', loc='center', fontsize=14 )\n",
        "\n",
        "# Grafico\n",
        "sns.barplot( data=df2, x='diadasemana', y='Eventos', ci=None, color='#96a8a8')\n",
        "\n",
        "# Label\n",
        "plt.ylabel('Qtd de eventos');"
      ],
      "metadata": {
        "colab": {
          "base_uri": "https://localhost:8080/",
          "height": 353
        },
        "id": "Z4DNVIb0_IqV",
        "outputId": "80b9b97b-1f59-48aa-e56a-6969831e23e0"
      },
      "execution_count": null,
      "outputs": [
        {
          "output_type": "display_data",
          "data": {
            "text/plain": [
              "<Figure size 720x360 with 1 Axes>"
            ],
            "image/png": "[encoded data removed]"
          },
          "metadata": {}
        }
      ]
    },
    {
      "cell_type": "markdown",
      "source": [
        "Os dados sugerem um volume superior de ocorrências às segundas-feiras. O fato da realidade que pode explicar essa tendência é a possibilidade dos motoristas que rodam às segundas não cumprirem o repouso necessário no final de semana para começar a semana com a disposição necessária para o exercicio da função."
      ],
      "metadata": {
        "id": "4U_QK6hbR1cE"
      }
    },
    {
      "cell_type": "code",
      "source": [
        "# Ao longo dos meses\n",
        "\n",
        "# Tamanho da imagem\n",
        "plt.figure( figsize=(10, 5) )\n",
        "\n",
        "# Titulo\n",
        "plt.title('Qtd de Eventos por mês', loc='center', fontsize=14 )\n",
        "\n",
        "# Grafico\n",
        "sns.barplot( data=df2, x='mes', y='Eventos', ci=None, color='#96a8a8', estimator=sum )\n",
        "\n",
        "# Label\n",
        "plt.ylabel('Qtd de eventos');"
      ],
      "metadata": {
        "colab": {
          "base_uri": "https://localhost:8080/",
          "height": 353
        },
        "id": "dh5bvY99BNH6",
        "outputId": "9c45461e-697a-4cd9-f1ad-52d5c5ec765f"
      },
      "execution_count": null,
      "outputs": [
        {
          "output_type": "display_data",
          "data": {
            "text/plain": [
              "<Figure size 720x360 with 1 Axes>"
            ],
            "image/png": "[encoded data removed]"
          },
          "metadata": {}
        }
      ]
    },
    {
      "cell_type": "markdown",
      "source": [
        "**Ocorrências por velocidade**"
      ],
      "metadata": {
        "id": "vb9AEtpfHghS"
      }
    },
    {
      "cell_type": "code",
      "source": [
        "# Ao longo do dia\n",
        "\n",
        "# Tamanho\n",
        "plt.figure( figsize=(12, 5) )\n",
        "\n",
        "# Estilo\n",
        "plt.style.use('ggplot')\n",
        "\n",
        "# titulo\n",
        "plt.title('Distribuição de Eventos por velocidade', loc='center', fontsize=14 )\n",
        "\n",
        "# Plot\n",
        "sns.kdeplot(df2['Velocidade'], color='#96a8a8', shade=True, linewidth=2.5);"
      ],
      "metadata": {
        "colab": {
          "base_uri": "https://localhost:8080/",
          "height": 353
        },
        "id": "H-eyOo2cHZd4",
        "outputId": "a368b7ab-f534-4d60-f9b8-0e9e570a8b58"
      },
      "execution_count": null,
      "outputs": [
        {
          "output_type": "display_data",
          "data": {
            "text/plain": [
              "<Figure size 864x360 with 1 Axes>"
            ],
            "image/png": "[encoded data removed]"
          },
          "metadata": {}
        }
      ]
    },
    {
      "cell_type": "markdown",
      "source": [
        "\n",
        "Quando observa-se a velocidade, 2 picos; um de baixa velocidade (30km/h) e o segundo proximo aos 60km/h. O pico de baixa velocidade pode ocorrer nos dados pois grande parte dos deslocamentos ocorrem dentro da área da empresa onde a velocidade é controlada, e o pico de 60km/h, no trânsito da própria cidade."
      ],
      "metadata": {
        "id": "AVyx8NpXZDfX"
      }
    },
    {
      "cell_type": "markdown",
      "source": [
        "Observando os tipos de ocorrências pela velocidade ao longo do dia"
      ],
      "metadata": {
        "id": "qjobfcexb6FU"
      }
    },
    {
      "cell_type": "code",
      "source": [
        "px.scatter(df2, x=\"hora\", y=\"Eventos\", color= \"Velocidade\", size=\"Velocidade\", marginal_x=\"histogram\", color_continuous_scale=px.colors.cyclical.IceFire)"
      ],
      "metadata": {
        "colab": {
          "base_uri": "https://localhost:8080/",
          "height": 542
        },
        "id": "BIjYUyZ91PAi",
        "outputId": "10d5bd3c-1058-4294-96c2-334b839509ea"
      },
      "execution_count": null,
      "outputs": [
        {
          "output_type": "display_data",
          "data": {
            "text/html": [
              "<html>\n",
              "<head><meta charset=\"utf-8\" /></head>\n",
              "<body>\n",
              "    <div>            <script src=\"https://cdnjs.cloudflare.com/ajax/libs/mathjax/2.7.5/MathJax.js?config=TeX-AMS-MML_SVG\"></script><script type=\"text/javascript\">if (window.MathJax) {MathJax.Hub.Config({SVG: {font: \"STIX-Web\"}});}</script>                <script type=\"text/javascript\">window.PlotlyConfig = {MathJaxConfig: 'local'};</script>\n",
              "        <script src=\"https://cdn.plot.ly/plotly-2.8.3.min.js\"></script>                <div id=\"a3fc49ad-7a95-48e0-b47f-de6772aa2f97\" class=\"plotly-graph-div\" style=\"height:525px; width:100%;\"></div>            <script type=\"text/javascript\">                                    window.PLOTLYENV=window.PLOTLYENV || {};                                    if (document.getElementById(\"a3fc49ad-7a95-48e0-b47f-de6772aa2f97\")) {                    Plotly.newPlot(                        \"a3fc49ad-7a95-48e0-b47f-de6772aa2f97\",                        [{\"hovertemplate\":\"hora=%{x}<br>Eventos=%{y}<br>Velocidade=%{marker.color}<extra></extra>\",\"legendgroup\":\"\",\"marker\":{\"color\":[21,18,18,15,23,28,33,27,27,26,15,19,22,15,24,23,24,30,33,24,20,29,31,23,23,25,19,19,36,35,36,20,29,18,39,33,28,23,19,32,18,29,34,20,33,32,26,26,28,22,23,39,22,18,19,19,39,16,25,31,21,21,18,24,29,20,17,21,34,22,28,24,22,21,28,38,21,32,29,21,31,20,18,18,15,21,21,32,23,23,29,53,50,52,31,31,26,57,21,25,37,30,37,24,32,57,28,19,29,18,16,19,28,40,16,50,57,49,24,45,55,32,58,57,45,35,39,45,19,26,17,18,42,25,23,36,28,38,18,20,23,24,35,58,16,23,28,31,34,17,28,59,27,31,16,20,35,33,34,36,29,28,27,32,36,35,19,33,33,23,21,27,29,35,36,21,37,16,38,30,34,30,21,28,37,26,29,33,28,33,32,17,52,20,39,50,45,43,44,45,52,57,48,35,35,32,39,33,56,29,38,32,23,43,56,29,23,40,52,38,49,33,44,45,51,27,44,32,24,39,29,20,32,26,32,19,29,39,55,41,21,25,29,26,36,22,32,49,41,55,54,23,44,32,59,47,27,52,51,55,47,20,24,53,45,52,50,52,23,44,54,40,28,51,42,34,49,54,48,43,45,35,34,53,49,51,45,47,56,53,46,53,21,16,45,26,33,51,61,41,42,32,46,53,51,55,55,51,50,33,32,29,55,51,38,28,41,46,34,35,45,48,58,53,38,48,50,24,47,40,22,17,48,22,27,25,36,24,44,27,57,56,40,55,40,38,20,34,35,29,29,41,39,37,42,41,17,43,55,33,41,25,37,39,50,40,18,24,34,37,41,51,28,45,29,26,56,20,15,55,21,48,52,45,31,48,51,42,27,41,24,41,28,35,25,47,30,39,30,32,40,59,18,34,24,29,42,47,48,37,33,44,23,54,45,55,31,53,30,38,37,43,18,58,59,54,38,38,39,52,59,32,41,42,45,56,45,58,54,57,38,55,57,58,47,53,52,43,43,52,49,51,34,35,43,48,45,36,37,37,33,42,45,23,56,57,59,59,31,42,60,55,23,48,34],\"coloraxis\":\"coloraxis\",\"size\":[21,18,18,15,23,28,33,27,27,26,15,19,22,15,24,23,24,30,33,24,20,29,31,23,23,25,19,19,36,35,36,20,29,18,39,33,28,23,19,32,18,29,34,20,33,32,26,26,28,22,23,39,22,18,19,19,39,16,25,31,21,21,18,24,29,20,17,21,34,22,28,24,22,21,28,38,21,32,29,21,31,20,18,18,15,21,21,32,23,23,29,53,50,52,31,31,26,57,21,25,37,30,37,24,32,57,28,19,29,18,16,19,28,40,16,50,57,49,24,45,55,32,58,57,45,35,39,45,19,26,17,18,42,25,23,36,28,38,18,20,23,24,35,58,16,23,28,31,34,17,28,59,27,31,16,20,35,33,34,36,29,28,27,32,36,35,19,33,33,23,21,27,29,35,36,21,37,16,38,30,34,30,21,28,37,26,29,33,28,33,32,17,52,20,39,50,45,43,44,45,52,57,48,35,35,32,39,33,56,29,38,32,23,43,56,29,23,40,52,38,49,33,44,45,51,27,44,32,24,39,29,20,32,26,32,19,29,39,55,41,21,25,29,26,36,22,32,49,41,55,54,23,44,32,59,47,27,52,51,55,47,20,24,53,45,52,50,52,23,44,54,40,28,51,42,34,49,54,48,43,45,35,34,53,49,51,45,47,56,53,46,53,21,16,45,26,33,51,61,41,42,32,46,53,51,55,55,51,50,33,32,29,55,51,38,28,41,46,34,35,45,48,58,53,38,48,50,24,47,40,22,17,48,22,27,25,36,24,44,27,57,56,40,55,40,38,20,34,35,29,29,41,39,37,42,41,17,43,55,33,41,25,37,39,50,40,18,24,34,37,41,51,28,45,29,26,56,20,15,55,21,48,52,45,31,48,51,42,27,41,24,41,28,35,25,47,30,39,30,32,40,59,18,34,24,29,42,47,48,37,33,44,23,54,45,55,31,53,30,38,37,43,18,58,59,54,38,38,39,52,59,32,41,42,45,56,45,58,54,57,38,55,57,58,47,53,52,43,43,52,49,51,34,35,43,48,45,36,37,37,33,42,45,23,56,57,59,59,31,42,60,55,23,48,34],\"sizemode\":\"area\",\"sizeref\":0.1525,\"symbol\":\"circle\"},\"mode\":\"markers\",\"name\":\"\",\"orientation\":\"v\",\"showlegend\":false,\"x\":[0.83673611111,0.39996527778,0.93091435185,0.67746527778,0.87912037037,0.17737268519,0.64962962963,0.70225694444,0.61662037037,0.05351851852,0.2330787037,0.03798611111,0.14685185185,0.68335648148,0.08435185185,0.69724537037,0.00509259259,0.89144675926,0.68393518519,0.62415509259,0.23914351852,0.70136574074,0.92513888889,0.63447916667,0.44028935185,0.22771990741,0.20179398148,0.9859837963,0.35600694444,0.81716435185,0.70350694444,0.13770833333,0.57515046296,0.15368055556,0.62082175926,0.32034722222,0.70079861111,0.22203703704,0.58230324074,0.85481481481,0.17587962963,0.86064814815,0.72872685185,0.3815625,0.13487268519,0.98506944444,0.99265046296,0.7003587963,0.97092592593,0.21159722222,0.45729166667,0.82082175926,0.16877314815,0.69428240741,0.63105324074,0.41068287037,0.58793981481,0.06565972222,0.21141203704,0.67135416667,0.69361111111,0.85913194444,0.6515162037,0.82638888889,0.7568287037,0.36696759259,0.99552083333,0.48136574074,0.67229166667,0.04871527778,0.69076388889,0.45478009259,0.12949074074,0.36603009259,0.41997685185,0.41623842593,0.13269675926,0.10248842593,0.07709490741,0.32673611111,0.23373842593,0.03131944444,0.69341435185,0.0158912037,0.81228009259,0.12841435185,0.57671296296,0.9709375,0.07791666667,0.08875,0.54918981481,0.61887731481,0.27436342593,0.27438657407,0.3594212963,0.1015625,0.73920138889,0.71103009259,0.4322337963,0.0894212963,0.17415509259,0.58128472222,0.53226851852,0.70417824074,0.05847222222,0.7112962963,0.8696412037,0.24842592593,0.40548611111,0.89715277778,0.65,0.95861111111,0.46730324074,0.67806712963,0.01784722222,0.83159722222,0.71175925926,0.02684027778,0.29083333333,0.13206018519,0.33662037037,0.28980324074,0.33136574074,0.33142361111,0.73275462963,0.73978009259,0.46303240741,0.33165509259,0.70408564815,0.30993055556,0.30969907407,0.29763888889,0.29159722222,0.2871412037,0.29633101852,0.50494212963,0.06498842593,0.73618055556,0.30828703704,0.28592592593,0.29583333333,0.52594907407,0.73603009259,0.26258101852,0.2903125,0.59854166667,0.71078703704,0.31608796296,0.06040509259,0.55693287037,0.92644675926,0.47314814815,0.31806712963,0.28353009259,0.29878472222,0.29109953704,0.32416666667,0.65434027778,0.4894212963,0.813125,0.29894675926,0.4453125,0.49171296296,0.49144675926,0.48638888889,0.74165509259,0.28431712963,0.39041666667,0.29760416667,0.49224537037,0.49229166667,0.49134259259,0.30258101852,0.8030787037,0.37895833333,0.53956018519,0.48895833333,0.28415509259,0.37890046296,0.28405092593,0.34023148148,0.29166666667,0.18668981481,0.52240740741,0.96947916667,0.53936342593,0.81030092593,0.48734953704,0.33440972222,0.90975694444,0.81708333333,0.8671875,0.37510416667,0.46746527778,0.27805555556,0.41921296296,0.48619212963,0.39020833333,0.29238425926,0.44126157407,0.47366898148,0.8200462963,0.54797453704,0.41905092593,0.49355324074,0.47894675926,0.29871527778,0.51561342593,0.32365740741,0.47935185185,0.48516203704,0.99599537037,0.52568287037,0.29912037037,0.82228009259,0.50091435185,0.73826388889,0.77883101852,0.5472337963,0.99221064815,0.29349537037,0.51884259259,0.56618055556,0.7818287037,0.33940972222,0.5003125,0.5559837963,0.99256944444,0.2503125,0.31474537037,0.29787037037,0.01291666667,0.99277777778,0.51199074074,0.29402777778,0.53721064815,0.48061342593,0.21537037037,0.27592592593,0.28012731481,0.81064814815,0.27923611111,0.33140046296,0.29800925926,0.78270833333,0.22047453704,0.58137731481,0.24871527778,0.27780092593,0.27778935185,0.33649305556,0.28967592593,0.21896990741,0.34775462963,0.3399537037,0.24824074074,0.2887962963,0.33662037037,0.27943287037,0.28861111111,0.61231481481,0.22480324074,0.69232638889,0.34262731481,0.27868055556,0.26675925926,0.33586805556,0.94145833333,0.33694444444,0.27834490741,0.35226851852,0.34357638889,0.34027777778,0.83805555556,0.83957175926,0.52936342593,0.2471875,0.61467592593,0.35481481481,0.34128472222,0.84851851852,0.26818287037,0.27269675926,0.28090277778,0.27501157407,0.1505787037,0.27451388889,0.86248842593,0.55046296296,0.27519675926,0.27452546296,0.24407407407,0.26795138889,0.83548611111,0.21153935185,0.83449074074,0.27159722222,0.34252314815,0.26053240741,0.27403935185,0.26439814815,0.77094907407,0.27248842593,0.39766203704,0.3433912037,0.35543981481,0.34693287037,0.38013888889,0.76789351852,0.25238425926,0.20984953704,0.26074074074,0.27259259259,0.27334490741,0.58892361111,0.25950231481,0.26407407407,0.75846064815,0.88630787037,0.34642361111,0.2747337963,0.934375,0.35064814815,0.34310185185,0.26208333333,0.91755787037,0.34767361111,0.36569444444,0.75288194444,0.85236111111,0.38178240741,0.42576388889,0.19914351852,0.37122685185,0.40170138889,0.75027777778,0.24657407407,0.2040625,0.19241898148,0.8812962963,0.35811342593,0.93546296296,0.20341435185,0.37591435185,0.22935185185,0.28475694444,0.2600462963,0.25304398148,0.36918981481,0.12106481481,0.90728009259,0.9383912037,0.93846064815,0.91587962963,0.74284722222,0.23861111111,0.87996527778,0.88896990741,0.89586805556,0.92511574074,0.3699537037,0.39422453704,0.90569444444,0.19439814815,0.87372685185,0.90157407407,0.23795138889,0.86951388889,0.38511574074,0.38424768519,0.93805555556,0.40978009259,0.88421296296,0.9128587963,0.26523148148,0.24747685185,0.35459490741,0.94957175926,0.23533564815,0.20841435185,0.22373842593,0.3528587963,0.38596064815,0.22809027778,0.63646990741,0.22502314815,0.35586805556,0.41152777778,0.90612268519,0.23405092593,0.72318287037,0.64275462963,0.24082175926,0.94152777778,0.24385416667,0.89162037037,0.92164351852,0.941875,0.90699074074,0.88989583333,0.94204861111,0.36478009259,0.2437962963,0.86912037037,0.37040509259,0.94236111111,0.36744212963,0.36736111111,0.38354166667,0.88538194444,0.90231481481,0.89484953704,0.72359953704,0.24380787037,0.60496527778,0.35956018519,0.25351851852,0.17836805556,0.89436342593,0.36881944444,0.89467592593,0.873125,0.21457175926,0.36002314815,0.21273148148,0.37012731481,0.75103009259,0.69962962963,0.89238425926,0.36331018519,0.43728009259,0.22472222222,0.87978009259,0.8918287037,0.88228009259,0.37077546296,0.88672453704,0.37085648148,0.94966435185,0.88815972222,0.21134259259,0.88575231481,0.8884837963,0.36162037037,0.19103009259,0.9480787037,0.2234837963,0.8796412037,0.70417824074,0.37135416667,0.88989583333,0.37145833333,0.88065972222,0.24350694444,0.8828125,0.23611111111,0.24260416667,0.8833912037,0.23652777778,0.88976851852,0.61077546296,0.20016203704,0.88372685185,0.19842592593,0.63137731481,0.19905092593,0.37739583333,0.37782407407,0.39883101852,0.88284722222,0.37818287037,0.96195601852,0.62020833333,0.38061342593,0.87655092593],\"xaxis\":\"x\",\"y\":[1,1,1,2,1,1,1,2,2,1,1,1,1,2,1,2,1,1,2,1,1,2,1,5,1,5,1,1,1,1,1,1,2,1,2,1,2,1,5,1,1,1,1,1,1,1,1,2,1,1,5,1,1,2,1,5,1,1,1,5,2,1,1,1,1,5,1,1,1,1,2,1,1,5,5,1,1,1,1,5,1,1,1,1,1,1,4,1,1,5,1,5,5,6,1,1,4,2,5,5,1,5,4,1,1,2,1,1,2,1,1,5,1,1,1,4,2,1,5,5,5,5,5,5,5,5,5,5,2,1,5,5,5,5,5,5,1,5,5,5,5,5,5,5,1,5,1,5,1,5,1,1,5,1,5,5,1,5,5,1,5,5,5,5,5,5,4,5,4,5,5,5,5,1,5,1,5,4,5,5,5,5,1,5,4,1,5,5,5,5,5,4,5,1,5,5,5,5,5,5,1,5,1,5,5,5,5,5,5,5,5,4,1,5,5,5,1,1,1,1,5,5,4,5,5,5,5,1,1,5,5,5,1,5,5,1,5,1,5,1,1,5,1,4,1,1,1,5,5,5,5,1,1,5,5,5,1,1,5,1,1,1,5,1,5,5,1,1,1,5,5,5,1,1,5,4,5,5,5,5,4,5,5,5,5,1,5,1,5,5,5,5,5,1,1,1,5,5,5,5,5,5,1,5,5,1,1,4,1,1,1,5,5,5,5,1,1,4,1,5,5,1,1,5,5,1,1,1,1,1,1,1,1,1,1,1,1,1,1,1,5,5,1,5,5,1,1,5,1,5,1,1,1,1,1,1,1,1,1,1,1,5,1,1,1,1,4,1,1,1,1,5,1,1,4,5,1,1,1,5,1,5,5,1,5,1,1,1,1,1,1,1,1,1,1,1,1,1,1,1,1,5,1,1,1,1,5,5,1,1,1,1,1,5,5,1,5,1,1,1,1,1,1,1,1,5,4,1,1,1,5,1,1,1,1,5,1,5,5,1,1,1,1,1,1,5,1,1,1,5,1,5,1,1,1,1,1,1,1,1,5,5,1,1,5,5,5,5,1,1,5,5,5,1,1],\"yaxis\":\"y\",\"type\":\"scatter\"},{\"alignmentgroup\":\"True\",\"bingroup\":\"x\",\"hovertemplate\":\"hora=%{x}<br>count=%{y}<extra></extra>\",\"legendgroup\":\"\",\"marker\":{\"color\":\"#000000\"},\"name\":\"\",\"offsetgroup\":\"\",\"opacity\":0.5,\"showlegend\":false,\"x\":[0.83673611111,0.39996527778,0.93091435185,0.67746527778,0.87912037037,0.17737268519,0.64962962963,0.70225694444,0.61662037037,0.05351851852,0.2330787037,0.03798611111,0.14685185185,0.68335648148,0.08435185185,0.69724537037,0.00509259259,0.89144675926,0.68393518519,0.62415509259,0.23914351852,0.70136574074,0.92513888889,0.63447916667,0.44028935185,0.22771990741,0.20179398148,0.9859837963,0.35600694444,0.81716435185,0.70350694444,0.13770833333,0.57515046296,0.15368055556,0.62082175926,0.32034722222,0.70079861111,0.22203703704,0.58230324074,0.85481481481,0.17587962963,0.86064814815,0.72872685185,0.3815625,0.13487268519,0.98506944444,0.99265046296,0.7003587963,0.97092592593,0.21159722222,0.45729166667,0.82082175926,0.16877314815,0.69428240741,0.63105324074,0.41068287037,0.58793981481,0.06565972222,0.21141203704,0.67135416667,0.69361111111,0.85913194444,0.6515162037,0.82638888889,0.7568287037,0.36696759259,0.99552083333,0.48136574074,0.67229166667,0.04871527778,0.69076388889,0.45478009259,0.12949074074,0.36603009259,0.41997685185,0.41623842593,0.13269675926,0.10248842593,0.07709490741,0.32673611111,0.23373842593,0.03131944444,0.69341435185,0.0158912037,0.81228009259,0.12841435185,0.57671296296,0.9709375,0.07791666667,0.08875,0.54918981481,0.61887731481,0.27436342593,0.27438657407,0.3594212963,0.1015625,0.73920138889,0.71103009259,0.4322337963,0.0894212963,0.17415509259,0.58128472222,0.53226851852,0.70417824074,0.05847222222,0.7112962963,0.8696412037,0.24842592593,0.40548611111,0.89715277778,0.65,0.95861111111,0.46730324074,0.67806712963,0.01784722222,0.83159722222,0.71175925926,0.02684027778,0.29083333333,0.13206018519,0.33662037037,0.28980324074,0.33136574074,0.33142361111,0.73275462963,0.73978009259,0.46303240741,0.33165509259,0.70408564815,0.30993055556,0.30969907407,0.29763888889,0.29159722222,0.2871412037,0.29633101852,0.50494212963,0.06498842593,0.73618055556,0.30828703704,0.28592592593,0.29583333333,0.52594907407,0.73603009259,0.26258101852,0.2903125,0.59854166667,0.71078703704,0.31608796296,0.06040509259,0.55693287037,0.92644675926,0.47314814815,0.31806712963,0.28353009259,0.29878472222,0.29109953704,0.32416666667,0.65434027778,0.4894212963,0.813125,0.29894675926,0.4453125,0.49171296296,0.49144675926,0.48638888889,0.74165509259,0.28431712963,0.39041666667,0.29760416667,0.49224537037,0.49229166667,0.49134259259,0.30258101852,0.8030787037,0.37895833333,0.53956018519,0.48895833333,0.28415509259,0.37890046296,0.28405092593,0.34023148148,0.29166666667,0.18668981481,0.52240740741,0.96947916667,0.53936342593,0.81030092593,0.48734953704,0.33440972222,0.90975694444,0.81708333333,0.8671875,0.37510416667,0.46746527778,0.27805555556,0.41921296296,0.48619212963,0.39020833333,0.29238425926,0.44126157407,0.47366898148,0.8200462963,0.54797453704,0.41905092593,0.49355324074,0.47894675926,0.29871527778,0.51561342593,0.32365740741,0.47935185185,0.48516203704,0.99599537037,0.52568287037,0.29912037037,0.82228009259,0.50091435185,0.73826388889,0.77883101852,0.5472337963,0.99221064815,0.29349537037,0.51884259259,0.56618055556,0.7818287037,0.33940972222,0.5003125,0.5559837963,0.99256944444,0.2503125,0.31474537037,0.29787037037,0.01291666667,0.99277777778,0.51199074074,0.29402777778,0.53721064815,0.48061342593,0.21537037037,0.27592592593,0.28012731481,0.81064814815,0.27923611111,0.33140046296,0.29800925926,0.78270833333,0.22047453704,0.58137731481,0.24871527778,0.27780092593,0.27778935185,0.33649305556,0.28967592593,0.21896990741,0.34775462963,0.3399537037,0.24824074074,0.2887962963,0.33662037037,0.27943287037,0.28861111111,0.61231481481,0.22480324074,0.69232638889,0.34262731481,0.27868055556,0.26675925926,0.33586805556,0.94145833333,0.33694444444,0.27834490741,0.35226851852,0.34357638889,0.34027777778,0.83805555556,0.83957175926,0.52936342593,0.2471875,0.61467592593,0.35481481481,0.34128472222,0.84851851852,0.26818287037,0.27269675926,0.28090277778,0.27501157407,0.1505787037,0.27451388889,0.86248842593,0.55046296296,0.27519675926,0.27452546296,0.24407407407,0.26795138889,0.83548611111,0.21153935185,0.83449074074,0.27159722222,0.34252314815,0.26053240741,0.27403935185,0.26439814815,0.77094907407,0.27248842593,0.39766203704,0.3433912037,0.35543981481,0.34693287037,0.38013888889,0.76789351852,0.25238425926,0.20984953704,0.26074074074,0.27259259259,0.27334490741,0.58892361111,0.25950231481,0.26407407407,0.75846064815,0.88630787037,0.34642361111,0.2747337963,0.934375,0.35064814815,0.34310185185,0.26208333333,0.91755787037,0.34767361111,0.36569444444,0.75288194444,0.85236111111,0.38178240741,0.42576388889,0.19914351852,0.37122685185,0.40170138889,0.75027777778,0.24657407407,0.2040625,0.19241898148,0.8812962963,0.35811342593,0.93546296296,0.20341435185,0.37591435185,0.22935185185,0.28475694444,0.2600462963,0.25304398148,0.36918981481,0.12106481481,0.90728009259,0.9383912037,0.93846064815,0.91587962963,0.74284722222,0.23861111111,0.87996527778,0.88896990741,0.89586805556,0.92511574074,0.3699537037,0.39422453704,0.90569444444,0.19439814815,0.87372685185,0.90157407407,0.23795138889,0.86951388889,0.38511574074,0.38424768519,0.93805555556,0.40978009259,0.88421296296,0.9128587963,0.26523148148,0.24747685185,0.35459490741,0.94957175926,0.23533564815,0.20841435185,0.22373842593,0.3528587963,0.38596064815,0.22809027778,0.63646990741,0.22502314815,0.35586805556,0.41152777778,0.90612268519,0.23405092593,0.72318287037,0.64275462963,0.24082175926,0.94152777778,0.24385416667,0.89162037037,0.92164351852,0.941875,0.90699074074,0.88989583333,0.94204861111,0.36478009259,0.2437962963,0.86912037037,0.37040509259,0.94236111111,0.36744212963,0.36736111111,0.38354166667,0.88538194444,0.90231481481,0.89484953704,0.72359953704,0.24380787037,0.60496527778,0.35956018519,0.25351851852,0.17836805556,0.89436342593,0.36881944444,0.89467592593,0.873125,0.21457175926,0.36002314815,0.21273148148,0.37012731481,0.75103009259,0.69962962963,0.89238425926,0.36331018519,0.43728009259,0.22472222222,0.87978009259,0.8918287037,0.88228009259,0.37077546296,0.88672453704,0.37085648148,0.94966435185,0.88815972222,0.21134259259,0.88575231481,0.8884837963,0.36162037037,0.19103009259,0.9480787037,0.2234837963,0.8796412037,0.70417824074,0.37135416667,0.88989583333,0.37145833333,0.88065972222,0.24350694444,0.8828125,0.23611111111,0.24260416667,0.8833912037,0.23652777778,0.88976851852,0.61077546296,0.20016203704,0.88372685185,0.19842592593,0.63137731481,0.19905092593,0.37739583333,0.37782407407,0.39883101852,0.88284722222,0.37818287037,0.96195601852,0.62020833333,0.38061342593,0.87655092593],\"xaxis\":\"x2\",\"yaxis\":\"y2\",\"type\":\"histogram\"}],                        {\"template\":{\"data\":{\"bar\":[{\"error_x\":{\"color\":\"#2a3f5f\"},\"error_y\":{\"color\":\"#2a3f5f\"},\"marker\":{\"line\":{\"color\":\"#E5ECF6\",\"width\":0.5},\"pattern\":{\"fillmode\":\"overlay\",\"size\":10,\"solidity\":0.2}},\"type\":\"bar\"}],\"barpolar\":[{\"marker\":{\"line\":{\"color\":\"#E5ECF6\",\"width\":0.5},\"pattern\":{\"fillmode\":\"overlay\",\"size\":10,\"solidity\":0.2}},\"type\":\"barpolar\"}],\"carpet\":[{\"aaxis\":{\"endlinecolor\":\"#2a3f5f\",\"gridcolor\":\"white\",\"linecolor\":\"white\",\"minorgridcolor\":\"white\",\"startlinecolor\":\"#2a3f5f\"},\"baxis\":{\"endlinecolor\":\"#2a3f5f\",\"gridcolor\":\"white\",\"linecolor\":\"white\",\"minorgridcolor\":\"white\",\"startlinecolor\":\"#2a3f5f\"},\"type\":\"carpet\"}],\"choropleth\":[{\"colorbar\":{\"outlinewidth\":0,\"ticks\":\"\"},\"type\":\"choropleth\"}],\"contour\":[{\"colorbar\":{\"outlinewidth\":0,\"ticks\":\"\"},\"colorscale\":[[0.0,\"#0d0887\"],[0.1111111111111111,\"#46039f\"],[0.2222222222222222,\"#7201a8\"],[0.3333333333333333,\"#9c179e\"],[0.4444444444444444,\"#bd3786\"],[0.5555555555555556,\"#d8576b\"],[0.6666666666666666,\"#ed7953\"],[0.7777777777777778,\"#fb9f3a\"],[0.8888888888888888,\"#fdca26\"],[1.0,\"#f0f921\"]],\"type\":\"contour\"}],\"contourcarpet\":[{\"colorbar\":{\"outlinewidth\":0,\"ticks\":\"\"},\"type\":\"contourcarpet\"}],\"heatmap\":[{\"colorbar\":{\"outlinewidth\":0,\"ticks\":\"\"},\"colorscale\":[[0.0,\"#0d0887\"],[0.1111111111111111,\"#46039f\"],[0.2222222222222222,\"#7201a8\"],[0.3333333333333333,\"#9c179e\"],[0.4444444444444444,\"#bd3786\"],[0.5555555555555556,\"#d8576b\"],[0.6666666666666666,\"#ed7953\"],[0.7777777777777778,\"#fb9f3a\"],[0.8888888888888888,\"#fdca26\"],[1.0,\"#f0f921\"]],\"type\":\"heatmap\"}],\"heatmapgl\":[{\"colorbar\":{\"outlinewidth\":0,\"ticks\":\"\"},\"colorscale\":[[0.0,\"#0d0887\"],[0.1111111111111111,\"#46039f\"],[0.2222222222222222,\"#7201a8\"],[0.3333333333333333,\"#9c179e\"],[0.4444444444444444,\"#bd3786\"],[0.5555555555555556,\"#d8576b\"],[0.6666666666666666,\"#ed7953\"],[0.7777777777777778,\"#fb9f3a\"],[0.8888888888888888,\"#fdca26\"],[1.0,\"#f0f921\"]],\"type\":\"heatmapgl\"}],\"histogram\":[{\"marker\":{\"pattern\":{\"fillmode\":\"overlay\",\"size\":10,\"solidity\":0.2}},\"type\":\"histogram\"}],\"histogram2d\":[{\"colorbar\":{\"outlinewidth\":0,\"ticks\":\"\"},\"colorscale\":[[0.0,\"#0d0887\"],[0.1111111111111111,\"#46039f\"],[0.2222222222222222,\"#7201a8\"],[0.3333333333333333,\"#9c179e\"],[0.4444444444444444,\"#bd3786\"],[0.5555555555555556,\"#d8576b\"],[0.6666666666666666,\"#ed7953\"],[0.7777777777777778,\"#fb9f3a\"],[0.8888888888888888,\"#fdca26\"],[1.0,\"#f0f921\"]],\"type\":\"histogram2d\"}],\"histogram2dcontour\":[{\"colorbar\":{\"outlinewidth\":0,\"ticks\":\"\"},\"colorscale\":[[0.0,\"#0d0887\"],[0.1111111111111111,\"#46039f\"],[0.2222222222222222,\"#7201a8\"],[0.3333333333333333,\"#9c179e\"],[0.4444444444444444,\"#bd3786\"],[0.5555555555555556,\"#d8576b\"],[0.6666666666666666,\"#ed7953\"],[0.7777777777777778,\"#fb9f3a\"],[0.8888888888888888,\"#fdca26\"],[1.0,\"#f0f921\"]],\"type\":\"histogram2dcontour\"}],\"mesh3d\":[{\"colorbar\":{\"outlinewidth\":0,\"ticks\":\"\"},\"type\":\"mesh3d\"}],\"parcoords\":[{\"line\":{\"colorbar\":{\"outlinewidth\":0,\"ticks\":\"\"}},\"type\":\"parcoords\"}],\"pie\":[{\"automargin\":true,\"type\":\"pie\"}],\"scatter\":[{\"marker\":{\"colorbar\":{\"outlinewidth\":0,\"ticks\":\"\"}},\"type\":\"scatter\"}],\"scatter3d\":[{\"line\":{\"colorbar\":{\"outlinewidth\":0,\"ticks\":\"\"}},\"marker\":{\"colorbar\":{\"outlinewidth\":0,\"ticks\":\"\"}},\"type\":\"scatter3d\"}],\"scattercarpet\":[{\"marker\":{\"colorbar\":{\"outlinewidth\":0,\"ticks\":\"\"}},\"type\":\"scattercarpet\"}],\"scattergeo\":[{\"marker\":{\"colorbar\":{\"outlinewidth\":0,\"ticks\":\"\"}},\"type\":\"scattergeo\"}],\"scattergl\":[{\"marker\":{\"colorbar\":{\"outlinewidth\":0,\"ticks\":\"\"}},\"type\":\"scattergl\"}],\"scattermapbox\":[{\"marker\":{\"colorbar\":{\"outlinewidth\":0,\"ticks\":\"\"}},\"type\":\"scattermapbox\"}],\"scatterpolar\":[{\"marker\":{\"colorbar\":{\"outlinewidth\":0,\"ticks\":\"\"}},\"type\":\"scatterpolar\"}],\"scatterpolargl\":[{\"marker\":{\"colorbar\":{\"outlinewidth\":0,\"ticks\":\"\"}},\"type\":\"scatterpolargl\"}],\"scatterternary\":[{\"marker\":{\"colorbar\":{\"outlinewidth\":0,\"ticks\":\"\"}},\"type\":\"scatterternary\"}],\"surface\":[{\"colorbar\":{\"outlinewidth\":0,\"ticks\":\"\"},\"colorscale\":[[0.0,\"#0d0887\"],[0.1111111111111111,\"#46039f\"],[0.2222222222222222,\"#7201a8\"],[0.3333333333333333,\"#9c179e\"],[0.4444444444444444,\"#bd3786\"],[0.5555555555555556,\"#d8576b\"],[0.6666666666666666,\"#ed7953\"],[0.7777777777777778,\"#fb9f3a\"],[0.8888888888888888,\"#fdca26\"],[1.0,\"#f0f921\"]],\"type\":\"surface\"}],\"table\":[{\"cells\":{\"fill\":{\"color\":\"#EBF0F8\"},\"line\":{\"color\":\"white\"}},\"header\":{\"fill\":{\"color\":\"#C8D4E3\"},\"line\":{\"color\":\"white\"}},\"type\":\"table\"}]},\"layout\":{\"annotationdefaults\":{\"arrowcolor\":\"#2a3f5f\",\"arrowhead\":0,\"arrowwidth\":1},\"autotypenumbers\":\"strict\",\"coloraxis\":{\"colorbar\":{\"outlinewidth\":0,\"ticks\":\"\"}},\"colorscale\":{\"diverging\":[[0,\"#8e0152\"],[0.1,\"#c51b7d\"],[0.2,\"#de77ae\"],[0.3,\"#f1b6da\"],[0.4,\"#fde0ef\"],[0.5,\"#f7f7f7\"],[0.6,\"#e6f5d0\"],[0.7,\"#b8e186\"],[0.8,\"#7fbc41\"],[0.9,\"#4d9221\"],[1,\"#276419\"]],\"sequential\":[[0.0,\"#0d0887\"],[0.1111111111111111,\"#46039f\"],[0.2222222222222222,\"#7201a8\"],[0.3333333333333333,\"#9c179e\"],[0.4444444444444444,\"#bd3786\"],[0.5555555555555556,\"#d8576b\"],[0.6666666666666666,\"#ed7953\"],[0.7777777777777778,\"#fb9f3a\"],[0.8888888888888888,\"#fdca26\"],[1.0,\"#f0f921\"]],\"sequentialminus\":[[0.0,\"#0d0887\"],[0.1111111111111111,\"#46039f\"],[0.2222222222222222,\"#7201a8\"],[0.3333333333333333,\"#9c179e\"],[0.4444444444444444,\"#bd3786\"],[0.5555555555555556,\"#d8576b\"],[0.6666666666666666,\"#ed7953\"],[0.7777777777777778,\"#fb9f3a\"],[0.8888888888888888,\"#fdca26\"],[1.0,\"#f0f921\"]]},\"colorway\":[\"#636efa\",\"#EF553B\",\"#00cc96\",\"#ab63fa\",\"#FFA15A\",\"#19d3f3\",\"#FF6692\",\"#B6E880\",\"#FF97FF\",\"#FECB52\"],\"font\":{\"color\":\"#2a3f5f\"},\"geo\":{\"bgcolor\":\"white\",\"lakecolor\":\"white\",\"landcolor\":\"#E5ECF6\",\"showlakes\":true,\"showland\":true,\"subunitcolor\":\"white\"},\"hoverlabel\":{\"align\":\"left\"},\"hovermode\":\"closest\",\"mapbox\":{\"style\":\"light\"},\"paper_bgcolor\":\"white\",\"plot_bgcolor\":\"#E5ECF6\",\"polar\":{\"angularaxis\":{\"gridcolor\":\"white\",\"linecolor\":\"white\",\"ticks\":\"\"},\"bgcolor\":\"#E5ECF6\",\"radialaxis\":{\"gridcolor\":\"white\",\"linecolor\":\"white\",\"ticks\":\"\"}},\"scene\":{\"xaxis\":{\"backgroundcolor\":\"#E5ECF6\",\"gridcolor\":\"white\",\"gridwidth\":2,\"linecolor\":\"white\",\"showbackground\":true,\"ticks\":\"\",\"zerolinecolor\":\"white\"},\"yaxis\":{\"backgroundcolor\":\"#E5ECF6\",\"gridcolor\":\"white\",\"gridwidth\":2,\"linecolor\":\"white\",\"showbackground\":true,\"ticks\":\"\",\"zerolinecolor\":\"white\"},\"zaxis\":{\"backgroundcolor\":\"#E5ECF6\",\"gridcolor\":\"white\",\"gridwidth\":2,\"linecolor\":\"white\",\"showbackground\":true,\"ticks\":\"\",\"zerolinecolor\":\"white\"}},\"shapedefaults\":{\"line\":{\"color\":\"#2a3f5f\"}},\"ternary\":{\"aaxis\":{\"gridcolor\":\"white\",\"linecolor\":\"white\",\"ticks\":\"\"},\"baxis\":{\"gridcolor\":\"white\",\"linecolor\":\"white\",\"ticks\":\"\"},\"bgcolor\":\"#E5ECF6\",\"caxis\":{\"gridcolor\":\"white\",\"linecolor\":\"white\",\"ticks\":\"\"}},\"title\":{\"x\":0.05},\"xaxis\":{\"automargin\":true,\"gridcolor\":\"white\",\"linecolor\":\"white\",\"ticks\":\"\",\"title\":{\"standoff\":15},\"zerolinecolor\":\"white\",\"zerolinewidth\":2},\"yaxis\":{\"automargin\":true,\"gridcolor\":\"white\",\"linecolor\":\"white\",\"ticks\":\"\",\"title\":{\"standoff\":15},\"zerolinecolor\":\"white\",\"zerolinewidth\":2}}},\"xaxis\":{\"anchor\":\"y\",\"domain\":[0.0,1.0],\"title\":{\"text\":\"hora\"}},\"yaxis\":{\"anchor\":\"x\",\"domain\":[0.0,0.7326],\"title\":{\"text\":\"Eventos\"}},\"xaxis2\":{\"anchor\":\"y2\",\"domain\":[0.0,1.0],\"matches\":\"x\",\"showticklabels\":false,\"showgrid\":true},\"yaxis2\":{\"anchor\":\"x2\",\"domain\":[0.7426,1.0],\"matches\":\"y2\",\"showticklabels\":false,\"showline\":false,\"ticks\":\"\",\"showgrid\":true},\"coloraxis\":{\"colorbar\":{\"title\":{\"text\":\"Velocidade\"}},\"colorscale\":[[0.0,\"#000000\"],[0.0625,\"#001f4d\"],[0.125,\"#003786\"],[0.1875,\"#0e58a8\"],[0.25,\"#217eb8\"],[0.3125,\"#30a4ca\"],[0.375,\"#54c8df\"],[0.4375,\"#9be4ef\"],[0.5,\"#e1e9d1\"],[0.5625,\"#f3d573\"],[0.625,\"#e7b000\"],[0.6875,\"#da8200\"],[0.75,\"#c65400\"],[0.8125,\"#ac2301\"],[0.875,\"#820000\"],[0.9375,\"#4c0000\"],[1.0,\"#000000\"]]},\"legend\":{\"tracegroupgap\":0,\"itemsizing\":\"constant\"},\"margin\":{\"t\":60},\"barmode\":\"overlay\"},                        {\"responsive\": true}                    ).then(function(){\n",
              "                            \n",
              "var gd = document.getElementById('a3fc49ad-7a95-48e0-b47f-de6772aa2f97');\n",
              "var x = new MutationObserver(function (mutations, observer) {{\n",
              "        var display = window.getComputedStyle(gd).display;\n",
              "        if (!display || display === 'none') {{\n",
              "            console.log([gd, 'removed!']);\n",
              "            Plotly.purge(gd);\n",
              "            observer.disconnect();\n",
              "        }}\n",
              "}});\n",
              "\n",
              "// Listen for the removal of the full notebook cells\n",
              "var notebookContainer = gd.closest('#notebook-container');\n",
              "if (notebookContainer) {{\n",
              "    x.observe(notebookContainer, {childList: true});\n",
              "}}\n",
              "\n",
              "// Listen for the clearing of the current output cell\n",
              "var outputEl = gd.closest('.output');\n",
              "if (outputEl) {{\n",
              "    x.observe(outputEl, {childList: true});\n",
              "}}\n",
              "\n",
              "                        })                };                            </script>        </div>\n",
              "</body>\n",
              "</html>"
            ]
          },
          "metadata": {}
        }
      ]
    },
    {
      "cell_type": "markdown",
      "source": [
        "Observando as ocorrências no território\n"
      ],
      "metadata": {
        "id": "Akpf4qXa6iQ5"
      }
    },
    {
      "cell_type": "code",
      "source": [
        "df = px.data.iris()\n",
        "figgeo = px.scatter_mapbox(df2, lat=\"Latitude\", lon=\"Longitude\", color=\"Velocidade\", size=\"Eventos\",\n",
        "                        color_continuous_scale=px.colors.cyclical.IceFire, size_max=15, zoom=10,\n",
        "                  mapbox_style=\"carto-positron\")\n",
        "figgeo.update_layout(margin={\"r\":0,\"t\":0,\"l\":0,\"b\":0})\n",
        "figgeo.show()"
      ],
      "metadata": {
        "id": "z4LCLLEBr-IP",
        "colab": {
          "base_uri": "https://localhost:8080/",
          "height": 542
        },
        "outputId": "919e75f7-3743-4231-8671-9abbe7df1d65"
      },
      "execution_count": null,
      "outputs": [
        {
          "output_type": "display_data",
          "data": {
            "text/html": [
              "<html>\n",
              "<head><meta charset=\"utf-8\" /></head>\n",
              "<body>\n",
              "    <div>            <script src=\"https://cdnjs.cloudflare.com/ajax/libs/mathjax/2.7.5/MathJax.js?config=TeX-AMS-MML_SVG\"></script><script type=\"text/javascript\">if (window.MathJax) {MathJax.Hub.Config({SVG: {font: \"STIX-Web\"}});}</script>                <script type=\"text/javascript\">window.PlotlyConfig = {MathJaxConfig: 'local'};</script>\n",
              "        <script src=\"https://cdn.plot.ly/plotly-2.8.3.min.js\"></script>                <div id=\"c116c04c-4500-4048-b882-990b3ae2ab75\" class=\"plotly-graph-div\" style=\"height:525px; width:100%;\"></div>            <script type=\"text/javascript\">                                    window.PLOTLYENV=window.PLOTLYENV || {};                                    if (document.getElementById(\"c116c04c-4500-4048-b882-990b3ae2ab75\")) {                    Plotly.newPlot(                        \"c116c04c-4500-4048-b882-990b3ae2ab75\",                        [{\"hovertemplate\":\"Eventos=%{marker.size}<br>Latitude=%{lat}<br>Longitude=%{lon}<br>Velocidade=%{marker.color}<extra></extra>\",\"lat\":[-2.56317997,-2.564029932,-2.564150095,-2.552969933,-2.564189911,-2.55321002,-2.553469896,-2.553499937,-2.553940058,-2.56456995,-2.564709902,-2.564450026,-2.564310074,-2.564219952,-2.564029932,-2.563760042,-2.563719988,-2.563970089,-2.563649893,-2.563309908,-2.56385994,-2.555999994,-2.563600063,-2.563149929,-2.563169956,-2.556269884,-2.562900066,-2.556519985,-2.563220024,-2.563189983,-2.563080072,-2.562629938,-2.556989908,-2.562510014,-2.562319994,-2.557600021,-2.557579994,-2.562069893,-2.562069893,-2.562439919,-2.561810017,-2.561810017,-2.562160015,-2.572269917,-2.5618999,-2.55885005,-2.561320066,-2.558880091,-2.561130047,-2.560790062,-2.566450119,-2.572079897,-2.560849905,-2.560689926,-2.560889959,-2.561340094,-2.561549902,-2.559999943,-2.559459925,-2.559329987,-2.559099913,-2.561919928,-2.5618999,-2.558370113,-2.558150053,-2.562139988,-2.563329935,-2.563570023,-2.557480097,-2.556750059,-2.555089951,-2.554990053,-2.561239958,-2.561150074,-2.561150074,-2.561150074,-2.561130047,-2.561199903,-2.56118989,-2.553339958,-2.561160088,-2.561089993,-2.552930117,-2.55328989,-2.574059963,-2.559920073,-2.576030016,-2.559740067,-2.568160057,-2.559730053,-2.559689999,-2.553780079,-2.553839922,-2.553859949,-2.55960989,-2.559639931,-2.567869902,-2.553849936,-2.57013011,-2.56069994,-2.560689926,-2.567889929,-2.561310053,-2.56140995,-2.567660093,-2.55437994,-2.561850071,-2.573930025,-2.56230998,-2.565180063,-2.565759897,-2.568010092,-2.56765008,-2.567970037,-2.568020105,-2.557579994,-2.559079885,-2.559880018,-2.570319891,-2.568049908,-2.583590031,-2.568180084,-2.56159997,-2.562200069,-2.568340063,-2.569430113,-2.568510056,-2.564249992,-2.57020998,-2.579139948,-2.579139948,-2.578989983,-2.571010113,-2.578779936,-2.578769922,-2.57133007,-2.578629971,-2.572240114,-2.57852006,-2.578510046,-2.578560114,-2.578449965,-2.57291007,-2.732899904,-2.578609943,-2.578469992,-2.578490019,-2.589730024,-2.573559999,-2.574170113,-2.578670025,-2.593950033,-2.581130028,-2.581099987,-2.568840027,-2.581170082,-2.574620008,-2.579960108,-2.579659939,-2.577280045,-2.579530001,-2.59262991,-2.570260048,-2.57675004,-2.57656002,-2.574879885,-2.573829889,-2.576280117,-2.566910028,-2.568690062,-2.56843996,-2.568380117,-2.593930006,-2.573980093,-2.593960047,-2.57833004,-2.57159996,-2.574019909,-2.594269991,-2.571729898,-2.572060108,-2.572230101,-2.57494998,-2.574990034,-2.572720051,-2.578219891,-2.575939894,-2.572760105,-2.572730064,-2.573499918,-2.572890043,-2.577379942,-2.59875989,-2.588649988,-2.565910101,-2.565910101,-2.585589886,-2.586369991,-2.586380005,-2.60296011,-2.586910009,-2.602760077,-2.588690042,-2.566040039,-2.594189882,-2.590480089,-2.590490103,-2.591010094,-2.590759993,-2.592989922,-2.594140053,-2.593420029,-2.579590082,-2.594049931,-2.592329979,-2.598999977,-2.557110071,-2.596060038,-2.59581995,-2.596019983,-2.596369982,-2.596770048,-2.596940041,-2.566210032,-2.566349983,-2.601409912,-2.566210032,-2.598629951,-2.55588007,-2.599400043,-2.599189997,-2.600090027,-2.60007,-2.600650072,-2.600960016,-2.58623004,-2.601710081,-2.56633997,-2.71965003,-2.566260099,-2.588769913,-2.565809965,-2.565939903,-2.565399885,-2.564500093,-2.567059994,-2.607500076,-2.559319973,-2.558969975,-2.706140041,-2.557859898,-2.556920052,-2.595429897,-2.566620111,-2.556050062,-2.555449963,-2.55546999,-2.554780006,-2.554160118,-2.554100037,-2.64399004,-2.591439962,-2.552609921,-2.498759985,-2.551520109,-2.550960064,-2.534149885,-2.649940014,-2.526129961,-2.549020052,-2.555870056,-2.519249916,-2.513410091,-2.518959999,-2.509749889,-2.523200035,-2.546619892,-2.664160013,-2.541009903,-2.544070005,-2.545130014,-2.544339895,-2.543659925,-2.676440001,-2.548549891,-2.549259901,-2.52312994,-2.55053997,-2.550559998,-2.515520096,-2.552160025,-2.551510096,-2.532789946,-2.535830021,-2.550960064,-2.535640001,-2.550719976,-2.550839901,-2.653229952,-2.550280094,-2.499289989,-2.550499916,-2.550640106,-2.552459955,-2.553410053,-2.493750095,-2.493750095,-2.553459883,-2.511610031,-2.644690037,-2.554419994,-2.521650076,-2.518660069,-2.5160501,-2.493069887,-2.52173996,-2.527549982,-2.555759907,-2.554260015,-2.6105299,-2.522160053,-2.56765008,-2.487529993,-2.577219963,-2.49819994,-2.57543993,-2.49022007,-2.598320007,-2.530179977,-2.549139977,-2.571259975,-2.571099997,-2.568180084,-2.566950083,-2.490959883,-2.53324008,-2.520250082,-2.575180054,-2.560440063,-2.576100111,-2.488149881,-2.567990065,-2.576950073,-2.579649925,-2.55388999,-2.580430031,-2.553040028,-2.499639988,-2.505620003,-2.581619978,-2.581749916,-2.581640005,-2.581020117,-2.598670006,-2.597539902,-2.596760035,-2.591550112,-2.596509933,-2.583549976,-2.590480089,-2.59029007,-2.590009928,-2.58404994,-2.589459896,-2.589149952,-2.584170103,-2.61116004,-2.543940067,-2.601289988,-2.587739944,-2.584369898,-2.584559917,-2.601340055,-2.60145998,-2.601720095,-2.490509987,-2.47935009,-2.60187006,-2.542520046,-2.551280022,-2.516289949,-2.477780104,-2.550849915,-2.550440073,-2.559439898,-2.549390078,-2.477339983,-2.549200058,-2.599649906,-2.542690039,-2.599329948,-2.548069954,-2.53828001,-2.574179888,-2.534869909,-2.589070082,-2.585989952,-2.574239969,-2.595979929,-2.574100018,-2.574280024,-2.477070093,-2.511349916,-2.543550014,-2.542560101,-2.574300051,-2.602790117,-2.49277997,-2.51831007,-2.584310055,-2.584280014,-2.53786993,-2.537539959,-2.475820065,-2.475460052,-2.47536993,-2.598670006,-2.53421998,-2.57178998,-2.533230066,-2.532700062,-2.518239975,-2.571820021,-2.474159956,-2.551959991,-2.47371006,-2.5271101,-2.523590088,-2.533499956,-2.515749931,-2.513240099,-2.484590054,-2.532360077,-2.529949903,-2.471800089,-2.471410036,-2.508500099,-2.470700026,-2.470479965,-2.480600119,-2.506870031,-2.469860077,-2.484730005,-2.48567009,-2.50454998,-2.487319946,-2.487770081,-2.534209967,-2.496400118,-2.467689991,-2.500020027,-2.466809988,-2.531759977,-2.463969946,-2.53621006,-2.459670067,-2.459259987,-2.536469936,-2.45720005,-2.50180006,-2.454750061,-2.53557992,-2.453010082,-2.530539989,-2.448990107,-2.448909998,-2.444469929,-2.442150116,-2.5496099,-2.535939932,-2.441459894,-2.441410065,-2.549000025,-2.441169977,-2.562730074],\"legendgroup\":\"\",\"lon\":[-44.37919998,-44.37860107,-44.37779999,-44.37770081,-44.37739944,-44.37720108,-44.37670135,-44.37649918,-44.3757019,-44.37480164,-44.37469864,-44.3742981,-44.37400055,-44.37379837,-44.37310028,-44.3728981,-44.37279892,-44.37279892,-44.37239838,-44.37210083,-44.37210083,-44.37200165,-44.37200165,-44.37170029,-44.37170029,-44.3716011,-44.37110138,-44.37110138,-44.37080002,-44.37060165,-44.37030029,-44.37020111,-44.37020111,-44.36989975,-44.36930084,-44.36920166,-44.36909866,-44.36859894,-44.36849976,-44.36840057,-44.36780167,-44.36780167,-44.36780167,-44.36700058,-44.3669014,-44.3669014,-44.3667984,-44.3667984,-44.36629868,-44.36560059,-44.36399841,-44.36399841,-44.36389923,-44.36349869,-44.36259842,-44.36199951,-44.36159897,-44.36130142,-44.36109924,-44.36100006,-44.36100006,-44.3606987,-44.36040115,-44.36040115,-44.36019897,-44.36009979,-44.36009979,-44.35960007,-44.35950089,-44.35889816,-44.35839844,-44.35829926,-44.35820007,-44.35789871,-44.35760117,-44.35749817,-44.35739899,-44.35680008,-44.35680008,-44.35630035,-44.35559845,-44.35549927,-44.35499954,-44.35480118,-44.35279846,-44.35269928,-44.35189819,-44.35139847,-44.35139847,-44.3512001,-44.35110092,-44.35089874,-44.35029984,-44.35010147,-44.34960175,-44.34960175,-44.34930038,-44.34899902,-44.34880066,-44.34830093,-44.34830093,-44.34769821,-44.34700012,-44.34690094,-44.34590149,-44.34579849,-44.34529877,-44.34519958,-44.34489822,-44.34479904,-44.34479904,-44.3443985,-44.34400177,-44.34379959,-44.34360123,-44.34349823,-44.34249878,-44.34199905,-44.34170151,-44.34170151,-44.34140015,-44.34080124,-44.34080124,-44.3404007,-44.34009933,-44.34009933,-44.33969879,-44.33850098,-44.33729935,-44.3368988,-44.33620071,-44.33530045,-44.33509827,-44.33470154,-44.33449936,-44.33440018,-44.33380127,-44.33369827,-44.33319855,-44.33319855,-44.33309937,-44.33269882,-44.33269882,-44.33250046,-44.33200073,-44.33160019,-44.33150101,-44.33129883,-44.33069992,-44.33060074,-44.33060074,-44.33039856,-44.3302002,-44.3302002,-44.3302002,-44.3302002,-44.33010101,-44.33010101,-44.33010101,-44.33010101,-44.33010101,-44.33010101,-44.33000183,-44.32989883,-44.32989883,-44.32989883,-44.32979965,-44.32970047,-44.32949829,-44.32939911,-44.32939911,-44.32939911,-44.32939911,-44.32939911,-44.32939911,-44.32929993,-44.32910156,-44.32910156,-44.32910156,-44.32899857,-44.3288002,-44.32870102,-44.32849884,-44.32849884,-44.32839966,-44.32839966,-44.32830048,-44.32830048,-44.32830048,-44.3280983,-44.3280983,-44.32799911,-44.32770157,-44.32709885,-44.32690048,-44.32690048,-44.3266983,-44.32619858,-44.32619858,-44.32590103,-44.32590103,-44.32580185,-44.32540131,-44.32540131,-44.32519913,-44.32490158,-44.32490158,-44.3246994,-44.3246994,-44.32440186,-44.32440186,-44.32440186,-44.32440186,-44.32440186,-44.32429886,-44.32410049,-44.32410049,-44.32400131,-44.32400131,-44.32389832,-44.32389832,-44.32379913,-44.32369995,-44.32360077,-44.32350159,-44.32339859,-44.32320023,-44.32320023,-44.32300186,-44.32300186,-44.32300186,-44.32279968,-44.32279968,-44.32260132,-44.32260132,-44.32249832,-44.32229996,-44.32210159,-44.32160187,-44.32149887,-44.32040024,-44.32020187,-44.31999969,-44.31940079,-44.31840134,-44.31819916,-44.31510162,-44.31409836,-44.31370163,-44.31280136,-44.31269836,-44.31200027,-44.31190109,-44.31110001,-44.31110001,-44.31079865,-44.31079865,-44.31000137,-44.30970001,-44.30960083,-44.30870056,-44.30860138,-44.30799866,-44.30789948,-44.30730057,-44.30670166,-44.30609894,-44.30599976,-44.30590057,-44.30500031,-44.3042984,-44.30390167,-44.30390167,-44.30390167,-44.30339813,-44.30310059,-44.3030014,-44.30130005,-44.30080032,-44.29909897,-44.29710007,-44.29600143,-44.29430008,-44.29370117,-44.29359818,-44.29299927,-44.29199982,-44.29150009,-44.29130173,-44.29040146,-44.28789902,-44.28680038,-44.28639984,-44.28590012,-44.28570175,-44.28559875,-44.28530121,-44.28530121,-44.28499985,-44.28340149,-44.28239822,-44.28229904,-44.28219986,-44.27920151,-44.2765007,-44.27629852,-44.27590179,-44.27550125,-44.27489853,-44.27460098,-44.27119827,-44.27030182,-44.27019882,-44.2696991,-44.26539993,-44.26440048,-44.26079941,-44.25460052,-44.25109863,-44.24990082,-44.24900055,-44.24359894,-44.24309921,-44.24200058,-44.23989868,-44.23799896,-44.23659897,-44.23540115,-44.23450089,-44.2344017,-44.23429871,-44.23199844,-44.23199844,-44.23109818,-44.23040009,-44.229599,-44.22809982,-44.22650146,-44.22589874,-44.2254982,-44.22520065,-44.22499847,-44.22449875,-44.22140121,-44.22079849,-44.22060013,-44.22029877,-44.22019958,-44.22000122,-44.21929932,-44.21920013,-44.21789932,-44.21789932,-44.21780014,-44.21760178,-44.21749878,-44.21749878,-44.21749878,-44.21709824,-44.21680069,-44.21680069,-44.21670151,-44.21659851,-44.21649933,-44.21649933,-44.21640015,-44.21630096,-44.21630096,-44.21620178,-44.21609879,-44.21609879,-44.21609879,-44.21580124,-44.21509933,-44.21369934,-44.21289825,-44.21210098,-44.21120071,-44.21089935,-44.20980072,-44.20949936,-44.20920181,-44.20859909,-44.20709991,-44.20370102,-44.20339966,-44.20339966,-44.20299911,-44.20199966,-44.20140076,-44.20130157,-44.20090103,-44.20050049,-44.20029831,-44.19900131,-44.1977005,-44.19739914,-44.19729996,-44.19729996,-44.19649887,-44.19599915,-44.19580078,-44.19549942,-44.19449997,-44.19350052,-44.19329834,-44.19269943,-44.19210052,-44.19179916,-44.19169998,-44.19150162,-44.18980026,-44.18930054,-44.18899918,-44.1867981,-44.18640137,-44.18510056,-44.18510056,-44.18479919,-44.18379974,-44.18320084,-44.18149948,-44.1814003,-44.18069839,-44.17869949,-44.17860031,-44.1780014,-44.17779922,-44.17539978,-44.17499924,-44.17440033,-44.17430115,-44.17380142,-44.17340088,-44.17300034,-44.17250061,-44.17229843,-44.17179871,-44.17160034,-44.17139816,-44.17139816,-44.17050171,-44.17020035,-44.16989899,-44.16960144,-44.16939926,-44.1692009,-44.16899872,-44.16669846,-44.16630173,-44.16559982,-44.16550064,-44.16519928,-44.16320038,-44.16070175,-44.15850067,-44.15800095,-44.15639877,-44.15510178,-44.15140152,-44.15000153,-44.15000153,-44.14630127,-44.14279938,-44.13779831,-44.13759995,-44.12810135,-44.12319946,-44.12009811,-44.11949921,-44.11880112,-44.11790085,-44.11709976,-44.11259842,-44.05540085],\"marker\":{\"color\":[21,18,18,15,23,28,33,27,27,26,15,19,22,15,24,23,24,30,33,24,20,29,31,23,23,25,19,19,36,35,36,20,29,18,39,33,28,23,19,32,18,29,34,20,33,32,26,26,28,22,23,39,22,18,19,19,39,16,25,31,21,21,18,24,29,20,17,21,34,22,28,24,22,21,28,38,21,32,29,21,31,20,18,18,15,21,21,32,23,23,29,53,50,52,31,31,26,57,21,25,37,30,37,24,32,57,28,19,29,18,16,19,28,40,16,50,57,49,24,45,55,32,58,57,45,35,39,45,19,26,17,18,42,25,23,36,28,38,18,20,23,24,35,58,16,23,28,31,34,17,28,59,27,31,16,20,35,33,34,36,29,28,27,32,36,35,19,33,33,23,21,27,29,35,36,21,37,16,38,30,34,30,21,28,37,26,29,33,28,33,32,17,52,20,39,50,45,43,44,45,52,57,48,35,35,32,39,33,56,29,38,32,23,43,56,29,23,40,52,38,49,33,44,45,51,27,44,32,24,39,29,20,32,26,32,19,29,39,55,41,21,25,29,26,36,22,32,49,41,55,54,23,44,32,59,47,27,52,51,55,47,20,24,53,45,52,50,52,23,44,54,40,28,51,42,34,49,54,48,43,45,35,34,53,49,51,45,47,56,53,46,53,21,16,45,26,33,51,61,41,42,32,46,53,51,55,55,51,50,33,32,29,55,51,38,28,41,46,34,35,45,48,58,53,38,48,50,24,47,40,22,17,48,22,27,25,36,24,44,27,57,56,40,55,40,38,20,34,35,29,29,41,39,37,42,41,17,43,55,33,41,25,37,39,50,40,18,24,34,37,41,51,28,45,29,26,56,20,15,55,21,48,52,45,31,48,51,42,27,41,24,41,28,35,25,47,30,39,30,32,40,59,18,34,24,29,42,47,48,37,33,44,23,54,45,55,31,53,30,38,37,43,18,58,59,54,38,38,39,52,59,32,41,42,45,56,45,58,54,57,38,55,57,58,47,53,52,43,43,52,49,51,34,35,43,48,45,36,37,37,33,42,45,23,56,57,59,59,31,42,60,55,23,48,34],\"coloraxis\":\"coloraxis\",\"size\":[1,1,1,2,1,1,1,2,2,1,1,1,1,2,1,2,1,1,2,1,1,2,1,5,1,5,1,1,1,1,1,1,2,1,2,1,2,1,5,1,1,1,1,1,1,1,1,2,1,1,5,1,1,2,1,5,1,1,1,5,2,1,1,1,1,5,1,1,1,1,2,1,1,5,5,1,1,1,1,5,1,1,1,1,1,1,4,1,1,5,1,5,5,6,1,1,4,2,5,5,1,5,4,1,1,2,1,1,2,1,1,5,1,1,1,4,2,1,5,5,5,5,5,5,5,5,5,5,2,1,5,5,5,5,5,5,1,5,5,5,5,5,5,5,1,5,1,5,1,5,1,1,5,1,5,5,1,5,5,1,5,5,5,5,5,5,4,5,4,5,5,5,5,1,5,1,5,4,5,5,5,5,1,5,4,1,5,5,5,5,5,4,5,1,5,5,5,5,5,5,1,5,1,5,5,5,5,5,5,5,5,4,1,5,5,5,1,1,1,1,5,5,4,5,5,5,5,1,1,5,5,5,1,5,5,1,5,1,5,1,1,5,1,4,1,1,1,5,5,5,5,1,1,5,5,5,1,1,5,1,1,1,5,1,5,5,1,1,1,5,5,5,1,1,5,4,5,5,5,5,4,5,5,5,5,1,5,1,5,5,5,5,5,1,1,1,5,5,5,5,5,5,1,5,5,1,1,4,1,1,1,5,5,5,5,1,1,4,1,5,5,1,1,5,5,1,1,1,1,1,1,1,1,1,1,1,1,1,1,1,5,5,1,5,5,1,1,5,1,5,1,1,1,1,1,1,1,1,1,1,1,5,1,1,1,1,4,1,1,1,1,5,1,1,4,5,1,1,1,5,1,5,5,1,5,1,1,1,1,1,1,1,1,1,1,1,1,1,1,1,1,5,1,1,1,1,5,5,1,1,1,1,1,5,5,1,5,1,1,1,1,1,1,1,1,5,4,1,1,1,5,1,1,1,1,5,1,5,5,1,1,1,1,1,1,5,1,1,1,5,1,5,1,1,1,1,1,1,1,1,5,5,1,1,5,5,5,5,1,1,5,5,5,1,1],\"sizemode\":\"area\",\"sizeref\":0.02666666666666667},\"mode\":\"markers\",\"name\":\"\",\"showlegend\":false,\"subplot\":\"mapbox\",\"type\":\"scattermapbox\"}],                        {\"template\":{\"data\":{\"bar\":[{\"error_x\":{\"color\":\"#2a3f5f\"},\"error_y\":{\"color\":\"#2a3f5f\"},\"marker\":{\"line\":{\"color\":\"#E5ECF6\",\"width\":0.5},\"pattern\":{\"fillmode\":\"overlay\",\"size\":10,\"solidity\":0.2}},\"type\":\"bar\"}],\"barpolar\":[{\"marker\":{\"line\":{\"color\":\"#E5ECF6\",\"width\":0.5},\"pattern\":{\"fillmode\":\"overlay\",\"size\":10,\"solidity\":0.2}},\"type\":\"barpolar\"}],\"carpet\":[{\"aaxis\":{\"endlinecolor\":\"#2a3f5f\",\"gridcolor\":\"white\",\"linecolor\":\"white\",\"minorgridcolor\":\"white\",\"startlinecolor\":\"#2a3f5f\"},\"baxis\":{\"endlinecolor\":\"#2a3f5f\",\"gridcolor\":\"white\",\"linecolor\":\"white\",\"minorgridcolor\":\"white\",\"startlinecolor\":\"#2a3f5f\"},\"type\":\"carpet\"}],\"choropleth\":[{\"colorbar\":{\"outlinewidth\":0,\"ticks\":\"\"},\"type\":\"choropleth\"}],\"contour\":[{\"colorbar\":{\"outlinewidth\":0,\"ticks\":\"\"},\"colorscale\":[[0.0,\"#0d0887\"],[0.1111111111111111,\"#46039f\"],[0.2222222222222222,\"#7201a8\"],[0.3333333333333333,\"#9c179e\"],[0.4444444444444444,\"#bd3786\"],[0.5555555555555556,\"#d8576b\"],[0.6666666666666666,\"#ed7953\"],[0.7777777777777778,\"#fb9f3a\"],[0.8888888888888888,\"#fdca26\"],[1.0,\"#f0f921\"]],\"type\":\"contour\"}],\"contourcarpet\":[{\"colorbar\":{\"outlinewidth\":0,\"ticks\":\"\"},\"type\":\"contourcarpet\"}],\"heatmap\":[{\"colorbar\":{\"outlinewidth\":0,\"ticks\":\"\"},\"colorscale\":[[0.0,\"#0d0887\"],[0.1111111111111111,\"#46039f\"],[0.2222222222222222,\"#7201a8\"],[0.3333333333333333,\"#9c179e\"],[0.4444444444444444,\"#bd3786\"],[0.5555555555555556,\"#d8576b\"],[0.6666666666666666,\"#ed7953\"],[0.7777777777777778,\"#fb9f3a\"],[0.8888888888888888,\"#fdca26\"],[1.0,\"#f0f921\"]],\"type\":\"heatmap\"}],\"heatmapgl\":[{\"colorbar\":{\"outlinewidth\":0,\"ticks\":\"\"},\"colorscale\":[[0.0,\"#0d0887\"],[0.1111111111111111,\"#46039f\"],[0.2222222222222222,\"#7201a8\"],[0.3333333333333333,\"#9c179e\"],[0.4444444444444444,\"#bd3786\"],[0.5555555555555556,\"#d8576b\"],[0.6666666666666666,\"#ed7953\"],[0.7777777777777778,\"#fb9f3a\"],[0.8888888888888888,\"#fdca26\"],[1.0,\"#f0f921\"]],\"type\":\"heatmapgl\"}],\"histogram\":[{\"marker\":{\"pattern\":{\"fillmode\":\"overlay\",\"size\":10,\"solidity\":0.2}},\"type\":\"histogram\"}],\"histogram2d\":[{\"colorbar\":{\"outlinewidth\":0,\"ticks\":\"\"},\"colorscale\":[[0.0,\"#0d0887\"],[0.1111111111111111,\"#46039f\"],[0.2222222222222222,\"#7201a8\"],[0.3333333333333333,\"#9c179e\"],[0.4444444444444444,\"#bd3786\"],[0.5555555555555556,\"#d8576b\"],[0.6666666666666666,\"#ed7953\"],[0.7777777777777778,\"#fb9f3a\"],[0.8888888888888888,\"#fdca26\"],[1.0,\"#f0f921\"]],\"type\":\"histogram2d\"}],\"histogram2dcontour\":[{\"colorbar\":{\"outlinewidth\":0,\"ticks\":\"\"},\"colorscale\":[[0.0,\"#0d0887\"],[0.1111111111111111,\"#46039f\"],[0.2222222222222222,\"#7201a8\"],[0.3333333333333333,\"#9c179e\"],[0.4444444444444444,\"#bd3786\"],[0.5555555555555556,\"#d8576b\"],[0.6666666666666666,\"#ed7953\"],[0.7777777777777778,\"#fb9f3a\"],[0.8888888888888888,\"#fdca26\"],[1.0,\"#f0f921\"]],\"type\":\"histogram2dcontour\"}],\"mesh3d\":[{\"colorbar\":{\"outlinewidth\":0,\"ticks\":\"\"},\"type\":\"mesh3d\"}],\"parcoords\":[{\"line\":{\"colorbar\":{\"outlinewidth\":0,\"ticks\":\"\"}},\"type\":\"parcoords\"}],\"pie\":[{\"automargin\":true,\"type\":\"pie\"}],\"scatter\":[{\"marker\":{\"colorbar\":{\"outlinewidth\":0,\"ticks\":\"\"}},\"type\":\"scatter\"}],\"scatter3d\":[{\"line\":{\"colorbar\":{\"outlinewidth\":0,\"ticks\":\"\"}},\"marker\":{\"colorbar\":{\"outlinewidth\":0,\"ticks\":\"\"}},\"type\":\"scatter3d\"}],\"scattercarpet\":[{\"marker\":{\"colorbar\":{\"outlinewidth\":0,\"ticks\":\"\"}},\"type\":\"scattercarpet\"}],\"scattergeo\":[{\"marker\":{\"colorbar\":{\"outlinewidth\":0,\"ticks\":\"\"}},\"type\":\"scattergeo\"}],\"scattergl\":[{\"marker\":{\"colorbar\":{\"outlinewidth\":0,\"ticks\":\"\"}},\"type\":\"scattergl\"}],\"scattermapbox\":[{\"marker\":{\"colorbar\":{\"outlinewidth\":0,\"ticks\":\"\"}},\"type\":\"scattermapbox\"}],\"scatterpolar\":[{\"marker\":{\"colorbar\":{\"outlinewidth\":0,\"ticks\":\"\"}},\"type\":\"scatterpolar\"}],\"scatterpolargl\":[{\"marker\":{\"colorbar\":{\"outlinewidth\":0,\"ticks\":\"\"}},\"type\":\"scatterpolargl\"}],\"scatterternary\":[{\"marker\":{\"colorbar\":{\"outlinewidth\":0,\"ticks\":\"\"}},\"type\":\"scatterternary\"}],\"surface\":[{\"colorbar\":{\"outlinewidth\":0,\"ticks\":\"\"},\"colorscale\":[[0.0,\"#0d0887\"],[0.1111111111111111,\"#46039f\"],[0.2222222222222222,\"#7201a8\"],[0.3333333333333333,\"#9c179e\"],[0.4444444444444444,\"#bd3786\"],[0.5555555555555556,\"#d8576b\"],[0.6666666666666666,\"#ed7953\"],[0.7777777777777778,\"#fb9f3a\"],[0.8888888888888888,\"#fdca26\"],[1.0,\"#f0f921\"]],\"type\":\"surface\"}],\"table\":[{\"cells\":{\"fill\":{\"color\":\"#EBF0F8\"},\"line\":{\"color\":\"white\"}},\"header\":{\"fill\":{\"color\":\"#C8D4E3\"},\"line\":{\"color\":\"white\"}},\"type\":\"table\"}]},\"layout\":{\"annotationdefaults\":{\"arrowcolor\":\"#2a3f5f\",\"arrowhead\":0,\"arrowwidth\":1},\"autotypenumbers\":\"strict\",\"coloraxis\":{\"colorbar\":{\"outlinewidth\":0,\"ticks\":\"\"}},\"colorscale\":{\"diverging\":[[0,\"#8e0152\"],[0.1,\"#c51b7d\"],[0.2,\"#de77ae\"],[0.3,\"#f1b6da\"],[0.4,\"#fde0ef\"],[0.5,\"#f7f7f7\"],[0.6,\"#e6f5d0\"],[0.7,\"#b8e186\"],[0.8,\"#7fbc41\"],[0.9,\"#4d9221\"],[1,\"#276419\"]],\"sequential\":[[0.0,\"#0d0887\"],[0.1111111111111111,\"#46039f\"],[0.2222222222222222,\"#7201a8\"],[0.3333333333333333,\"#9c179e\"],[0.4444444444444444,\"#bd3786\"],[0.5555555555555556,\"#d8576b\"],[0.6666666666666666,\"#ed7953\"],[0.7777777777777778,\"#fb9f3a\"],[0.8888888888888888,\"#fdca26\"],[1.0,\"#f0f921\"]],\"sequentialminus\":[[0.0,\"#0d0887\"],[0.1111111111111111,\"#46039f\"],[0.2222222222222222,\"#7201a8\"],[0.3333333333333333,\"#9c179e\"],[0.4444444444444444,\"#bd3786\"],[0.5555555555555556,\"#d8576b\"],[0.6666666666666666,\"#ed7953\"],[0.7777777777777778,\"#fb9f3a\"],[0.8888888888888888,\"#fdca26\"],[1.0,\"#f0f921\"]]},\"colorway\":[\"#636efa\",\"#EF553B\",\"#00cc96\",\"#ab63fa\",\"#FFA15A\",\"#19d3f3\",\"#FF6692\",\"#B6E880\",\"#FF97FF\",\"#FECB52\"],\"font\":{\"color\":\"#2a3f5f\"},\"geo\":{\"bgcolor\":\"white\",\"lakecolor\":\"white\",\"landcolor\":\"#E5ECF6\",\"showlakes\":true,\"showland\":true,\"subunitcolor\":\"white\"},\"hoverlabel\":{\"align\":\"left\"},\"hovermode\":\"closest\",\"mapbox\":{\"style\":\"light\"},\"paper_bgcolor\":\"white\",\"plot_bgcolor\":\"#E5ECF6\",\"polar\":{\"angularaxis\":{\"gridcolor\":\"white\",\"linecolor\":\"white\",\"ticks\":\"\"},\"bgcolor\":\"#E5ECF6\",\"radialaxis\":{\"gridcolor\":\"white\",\"linecolor\":\"white\",\"ticks\":\"\"}},\"scene\":{\"xaxis\":{\"backgroundcolor\":\"#E5ECF6\",\"gridcolor\":\"white\",\"gridwidth\":2,\"linecolor\":\"white\",\"showbackground\":true,\"ticks\":\"\",\"zerolinecolor\":\"white\"},\"yaxis\":{\"backgroundcolor\":\"#E5ECF6\",\"gridcolor\":\"white\",\"gridwidth\":2,\"linecolor\":\"white\",\"showbackground\":true,\"ticks\":\"\",\"zerolinecolor\":\"white\"},\"zaxis\":{\"backgroundcolor\":\"#E5ECF6\",\"gridcolor\":\"white\",\"gridwidth\":2,\"linecolor\":\"white\",\"showbackground\":true,\"ticks\":\"\",\"zerolinecolor\":\"white\"}},\"shapedefaults\":{\"line\":{\"color\":\"#2a3f5f\"}},\"ternary\":{\"aaxis\":{\"gridcolor\":\"white\",\"linecolor\":\"white\",\"ticks\":\"\"},\"baxis\":{\"gridcolor\":\"white\",\"linecolor\":\"white\",\"ticks\":\"\"},\"bgcolor\":\"#E5ECF6\",\"caxis\":{\"gridcolor\":\"white\",\"linecolor\":\"white\",\"ticks\":\"\"}},\"title\":{\"x\":0.05},\"xaxis\":{\"automargin\":true,\"gridcolor\":\"white\",\"linecolor\":\"white\",\"ticks\":\"\",\"title\":{\"standoff\":15},\"zerolinecolor\":\"white\",\"zerolinewidth\":2},\"yaxis\":{\"automargin\":true,\"gridcolor\":\"white\",\"linecolor\":\"white\",\"ticks\":\"\",\"title\":{\"standoff\":15},\"zerolinecolor\":\"white\",\"zerolinewidth\":2}}},\"mapbox\":{\"domain\":{\"x\":[0.0,1.0],\"y\":[0.0,1.0]},\"center\":{\"lat\":-2.5573552458021065,\"lon\":-44.286864230568426},\"zoom\":10,\"style\":\"carto-positron\"},\"coloraxis\":{\"colorbar\":{\"title\":{\"text\":\"Velocidade\"}},\"colorscale\":[[0.0,\"#000000\"],[0.0625,\"#001f4d\"],[0.125,\"#003786\"],[0.1875,\"#0e58a8\"],[0.25,\"#217eb8\"],[0.3125,\"#30a4ca\"],[0.375,\"#54c8df\"],[0.4375,\"#9be4ef\"],[0.5,\"#e1e9d1\"],[0.5625,\"#f3d573\"],[0.625,\"#e7b000\"],[0.6875,\"#da8200\"],[0.75,\"#c65400\"],[0.8125,\"#ac2301\"],[0.875,\"#820000\"],[0.9375,\"#4c0000\"],[1.0,\"#000000\"]]},\"legend\":{\"tracegroupgap\":0,\"itemsizing\":\"constant\"},\"margin\":{\"t\":0,\"r\":0,\"l\":0,\"b\":0}},                        {\"responsive\": true}                    ).then(function(){\n",
              "                            \n",
              "var gd = document.getElementById('c116c04c-4500-4048-b882-990b3ae2ab75');\n",
              "var x = new MutationObserver(function (mutations, observer) {{\n",
              "        var display = window.getComputedStyle(gd).display;\n",
              "        if (!display || display === 'none') {{\n",
              "            console.log([gd, 'removed!']);\n",
              "            Plotly.purge(gd);\n",
              "            observer.disconnect();\n",
              "        }}\n",
              "}});\n",
              "\n",
              "// Listen for the removal of the full notebook cells\n",
              "var notebookContainer = gd.closest('#notebook-container');\n",
              "if (notebookContainer) {{\n",
              "    x.observe(notebookContainer, {childList: true});\n",
              "}}\n",
              "\n",
              "// Listen for the clearing of the current output cell\n",
              "var outputEl = gd.closest('.output');\n",
              "if (outputEl) {{\n",
              "    x.observe(outputEl, {childList: true});\n",
              "}}\n",
              "\n",
              "                        })                };                            </script>        </div>\n",
              "</body>\n",
              "</html>"
            ]
          },
          "metadata": {}
        }
      ]
    }
  ]
}